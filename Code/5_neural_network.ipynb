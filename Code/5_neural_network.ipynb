{
  "nbformat": 4,
  "nbformat_minor": 0,
  "metadata": {
    "colab": {
      "provenance": []
    },
    "kernelspec": {
      "name": "python3",
      "display_name": "Python 3"
    },
    "language_info": {
      "name": "python"
    },
    "accelerator": "GPU",
    "gpuClass": "standard",
    "widgets": {
      "application/vnd.jupyter.widget-state+json": {
        "cacbe4d9c3dd407fb41600a93550b707": {
          "model_module": "@jupyter-widgets/controls",
          "model_name": "HBoxModel",
          "model_module_version": "1.5.0",
          "state": {
            "_dom_classes": [],
            "_model_module": "@jupyter-widgets/controls",
            "_model_module_version": "1.5.0",
            "_model_name": "HBoxModel",
            "_view_count": null,
            "_view_module": "@jupyter-widgets/controls",
            "_view_module_version": "1.5.0",
            "_view_name": "HBoxView",
            "box_style": "",
            "children": [
              "IPY_MODEL_1fcb1ab9202e4c679c7406022caf673c",
              "IPY_MODEL_f50036d9dbbe442da9543457fb2e5448",
              "IPY_MODEL_da4dde1f7fb346a3b3e78c0255a271cb"
            ],
            "layout": "IPY_MODEL_fb927daaa8854672ab395b5954bc2062"
          }
        },
        "1fcb1ab9202e4c679c7406022caf673c": {
          "model_module": "@jupyter-widgets/controls",
          "model_name": "HTMLModel",
          "model_module_version": "1.5.0",
          "state": {
            "_dom_classes": [],
            "_model_module": "@jupyter-widgets/controls",
            "_model_module_version": "1.5.0",
            "_model_name": "HTMLModel",
            "_view_count": null,
            "_view_module": "@jupyter-widgets/controls",
            "_view_module_version": "1.5.0",
            "_view_name": "HTMLView",
            "description": "",
            "description_tooltip": null,
            "layout": "IPY_MODEL_2d62b2df4ab74dcc80d3e036f6704faa",
            "placeholder": "​",
            "style": "IPY_MODEL_a336e2b7f62646d3af7a50d0e4403a78",
            "value": "100%"
          }
        },
        "f50036d9dbbe442da9543457fb2e5448": {
          "model_module": "@jupyter-widgets/controls",
          "model_name": "FloatProgressModel",
          "model_module_version": "1.5.0",
          "state": {
            "_dom_classes": [],
            "_model_module": "@jupyter-widgets/controls",
            "_model_module_version": "1.5.0",
            "_model_name": "FloatProgressModel",
            "_view_count": null,
            "_view_module": "@jupyter-widgets/controls",
            "_view_module_version": "1.5.0",
            "_view_name": "ProgressView",
            "bar_style": "success",
            "description": "",
            "description_tooltip": null,
            "layout": "IPY_MODEL_942679a968db403e9ef7af445279e9f7",
            "max": 190,
            "min": 0,
            "orientation": "horizontal",
            "style": "IPY_MODEL_5059fedd99cd4ad5b98c8294d9174771",
            "value": 190
          }
        },
        "da4dde1f7fb346a3b3e78c0255a271cb": {
          "model_module": "@jupyter-widgets/controls",
          "model_name": "HTMLModel",
          "model_module_version": "1.5.0",
          "state": {
            "_dom_classes": [],
            "_model_module": "@jupyter-widgets/controls",
            "_model_module_version": "1.5.0",
            "_model_name": "HTMLModel",
            "_view_count": null,
            "_view_module": "@jupyter-widgets/controls",
            "_view_module_version": "1.5.0",
            "_view_name": "HTMLView",
            "description": "",
            "description_tooltip": null,
            "layout": "IPY_MODEL_c161c6db56344d1ba7fd257cd3317490",
            "placeholder": "​",
            "style": "IPY_MODEL_188b9a9f36e74fa7a955356e2ec9d238",
            "value": " 190/190 [00:05&lt;00:00, 31.08it/s]"
          }
        },
        "fb927daaa8854672ab395b5954bc2062": {
          "model_module": "@jupyter-widgets/base",
          "model_name": "LayoutModel",
          "model_module_version": "1.2.0",
          "state": {
            "_model_module": "@jupyter-widgets/base",
            "_model_module_version": "1.2.0",
            "_model_name": "LayoutModel",
            "_view_count": null,
            "_view_module": "@jupyter-widgets/base",
            "_view_module_version": "1.2.0",
            "_view_name": "LayoutView",
            "align_content": null,
            "align_items": null,
            "align_self": null,
            "border": null,
            "bottom": null,
            "display": null,
            "flex": null,
            "flex_flow": null,
            "grid_area": null,
            "grid_auto_columns": null,
            "grid_auto_flow": null,
            "grid_auto_rows": null,
            "grid_column": null,
            "grid_gap": null,
            "grid_row": null,
            "grid_template_areas": null,
            "grid_template_columns": null,
            "grid_template_rows": null,
            "height": null,
            "justify_content": null,
            "justify_items": null,
            "left": null,
            "margin": null,
            "max_height": null,
            "max_width": null,
            "min_height": null,
            "min_width": null,
            "object_fit": null,
            "object_position": null,
            "order": null,
            "overflow": null,
            "overflow_x": null,
            "overflow_y": null,
            "padding": null,
            "right": null,
            "top": null,
            "visibility": null,
            "width": null
          }
        },
        "2d62b2df4ab74dcc80d3e036f6704faa": {
          "model_module": "@jupyter-widgets/base",
          "model_name": "LayoutModel",
          "model_module_version": "1.2.0",
          "state": {
            "_model_module": "@jupyter-widgets/base",
            "_model_module_version": "1.2.0",
            "_model_name": "LayoutModel",
            "_view_count": null,
            "_view_module": "@jupyter-widgets/base",
            "_view_module_version": "1.2.0",
            "_view_name": "LayoutView",
            "align_content": null,
            "align_items": null,
            "align_self": null,
            "border": null,
            "bottom": null,
            "display": null,
            "flex": null,
            "flex_flow": null,
            "grid_area": null,
            "grid_auto_columns": null,
            "grid_auto_flow": null,
            "grid_auto_rows": null,
            "grid_column": null,
            "grid_gap": null,
            "grid_row": null,
            "grid_template_areas": null,
            "grid_template_columns": null,
            "grid_template_rows": null,
            "height": null,
            "justify_content": null,
            "justify_items": null,
            "left": null,
            "margin": null,
            "max_height": null,
            "max_width": null,
            "min_height": null,
            "min_width": null,
            "object_fit": null,
            "object_position": null,
            "order": null,
            "overflow": null,
            "overflow_x": null,
            "overflow_y": null,
            "padding": null,
            "right": null,
            "top": null,
            "visibility": null,
            "width": null
          }
        },
        "a336e2b7f62646d3af7a50d0e4403a78": {
          "model_module": "@jupyter-widgets/controls",
          "model_name": "DescriptionStyleModel",
          "model_module_version": "1.5.0",
          "state": {
            "_model_module": "@jupyter-widgets/controls",
            "_model_module_version": "1.5.0",
            "_model_name": "DescriptionStyleModel",
            "_view_count": null,
            "_view_module": "@jupyter-widgets/base",
            "_view_module_version": "1.2.0",
            "_view_name": "StyleView",
            "description_width": ""
          }
        },
        "942679a968db403e9ef7af445279e9f7": {
          "model_module": "@jupyter-widgets/base",
          "model_name": "LayoutModel",
          "model_module_version": "1.2.0",
          "state": {
            "_model_module": "@jupyter-widgets/base",
            "_model_module_version": "1.2.0",
            "_model_name": "LayoutModel",
            "_view_count": null,
            "_view_module": "@jupyter-widgets/base",
            "_view_module_version": "1.2.0",
            "_view_name": "LayoutView",
            "align_content": null,
            "align_items": null,
            "align_self": null,
            "border": null,
            "bottom": null,
            "display": null,
            "flex": null,
            "flex_flow": null,
            "grid_area": null,
            "grid_auto_columns": null,
            "grid_auto_flow": null,
            "grid_auto_rows": null,
            "grid_column": null,
            "grid_gap": null,
            "grid_row": null,
            "grid_template_areas": null,
            "grid_template_columns": null,
            "grid_template_rows": null,
            "height": null,
            "justify_content": null,
            "justify_items": null,
            "left": null,
            "margin": null,
            "max_height": null,
            "max_width": null,
            "min_height": null,
            "min_width": null,
            "object_fit": null,
            "object_position": null,
            "order": null,
            "overflow": null,
            "overflow_x": null,
            "overflow_y": null,
            "padding": null,
            "right": null,
            "top": null,
            "visibility": null,
            "width": null
          }
        },
        "5059fedd99cd4ad5b98c8294d9174771": {
          "model_module": "@jupyter-widgets/controls",
          "model_name": "ProgressStyleModel",
          "model_module_version": "1.5.0",
          "state": {
            "_model_module": "@jupyter-widgets/controls",
            "_model_module_version": "1.5.0",
            "_model_name": "ProgressStyleModel",
            "_view_count": null,
            "_view_module": "@jupyter-widgets/base",
            "_view_module_version": "1.2.0",
            "_view_name": "StyleView",
            "bar_color": null,
            "description_width": ""
          }
        },
        "c161c6db56344d1ba7fd257cd3317490": {
          "model_module": "@jupyter-widgets/base",
          "model_name": "LayoutModel",
          "model_module_version": "1.2.0",
          "state": {
            "_model_module": "@jupyter-widgets/base",
            "_model_module_version": "1.2.0",
            "_model_name": "LayoutModel",
            "_view_count": null,
            "_view_module": "@jupyter-widgets/base",
            "_view_module_version": "1.2.0",
            "_view_name": "LayoutView",
            "align_content": null,
            "align_items": null,
            "align_self": null,
            "border": null,
            "bottom": null,
            "display": null,
            "flex": null,
            "flex_flow": null,
            "grid_area": null,
            "grid_auto_columns": null,
            "grid_auto_flow": null,
            "grid_auto_rows": null,
            "grid_column": null,
            "grid_gap": null,
            "grid_row": null,
            "grid_template_areas": null,
            "grid_template_columns": null,
            "grid_template_rows": null,
            "height": null,
            "justify_content": null,
            "justify_items": null,
            "left": null,
            "margin": null,
            "max_height": null,
            "max_width": null,
            "min_height": null,
            "min_width": null,
            "object_fit": null,
            "object_position": null,
            "order": null,
            "overflow": null,
            "overflow_x": null,
            "overflow_y": null,
            "padding": null,
            "right": null,
            "top": null,
            "visibility": null,
            "width": null
          }
        },
        "188b9a9f36e74fa7a955356e2ec9d238": {
          "model_module": "@jupyter-widgets/controls",
          "model_name": "DescriptionStyleModel",
          "model_module_version": "1.5.0",
          "state": {
            "_model_module": "@jupyter-widgets/controls",
            "_model_module_version": "1.5.0",
            "_model_name": "DescriptionStyleModel",
            "_view_count": null,
            "_view_module": "@jupyter-widgets/base",
            "_view_module_version": "1.2.0",
            "_view_name": "StyleView",
            "description_width": ""
          }
        },
        "7fdbb9e26b9d475e89192fd8802071f4": {
          "model_module": "@jupyter-widgets/controls",
          "model_name": "HBoxModel",
          "model_module_version": "1.5.0",
          "state": {
            "_dom_classes": [],
            "_model_module": "@jupyter-widgets/controls",
            "_model_module_version": "1.5.0",
            "_model_name": "HBoxModel",
            "_view_count": null,
            "_view_module": "@jupyter-widgets/controls",
            "_view_module_version": "1.5.0",
            "_view_name": "HBoxView",
            "box_style": "",
            "children": [
              "IPY_MODEL_62c43f7ff42b45b4bf22d729dece7ab4",
              "IPY_MODEL_5838d338963a4eff939a3dff24cf91a3",
              "IPY_MODEL_f1ad187c32ce4aeb8f52ec6c5c841117"
            ],
            "layout": "IPY_MODEL_daf2dbe9f7644233a4c5c0ac33f78591"
          }
        },
        "62c43f7ff42b45b4bf22d729dece7ab4": {
          "model_module": "@jupyter-widgets/controls",
          "model_name": "HTMLModel",
          "model_module_version": "1.5.0",
          "state": {
            "_dom_classes": [],
            "_model_module": "@jupyter-widgets/controls",
            "_model_module_version": "1.5.0",
            "_model_name": "HTMLModel",
            "_view_count": null,
            "_view_module": "@jupyter-widgets/controls",
            "_view_module_version": "1.5.0",
            "_view_name": "HTMLView",
            "description": "",
            "description_tooltip": null,
            "layout": "IPY_MODEL_5d5b1c85034f4b0597f019b845822cba",
            "placeholder": "​",
            "style": "IPY_MODEL_038cf5f3316045ffa5771c12dd2aae08",
            "value": "100%"
          }
        },
        "5838d338963a4eff939a3dff24cf91a3": {
          "model_module": "@jupyter-widgets/controls",
          "model_name": "FloatProgressModel",
          "model_module_version": "1.5.0",
          "state": {
            "_dom_classes": [],
            "_model_module": "@jupyter-widgets/controls",
            "_model_module_version": "1.5.0",
            "_model_name": "FloatProgressModel",
            "_view_count": null,
            "_view_module": "@jupyter-widgets/controls",
            "_view_module_version": "1.5.0",
            "_view_name": "ProgressView",
            "bar_style": "success",
            "description": "",
            "description_tooltip": null,
            "layout": "IPY_MODEL_56061d0f60e04e8b83a0e968d9fc1eca",
            "max": 190,
            "min": 0,
            "orientation": "horizontal",
            "style": "IPY_MODEL_f0d6f28df6da42279ac30be53959a2f0",
            "value": 190
          }
        },
        "f1ad187c32ce4aeb8f52ec6c5c841117": {
          "model_module": "@jupyter-widgets/controls",
          "model_name": "HTMLModel",
          "model_module_version": "1.5.0",
          "state": {
            "_dom_classes": [],
            "_model_module": "@jupyter-widgets/controls",
            "_model_module_version": "1.5.0",
            "_model_name": "HTMLModel",
            "_view_count": null,
            "_view_module": "@jupyter-widgets/controls",
            "_view_module_version": "1.5.0",
            "_view_name": "HTMLView",
            "description": "",
            "description_tooltip": null,
            "layout": "IPY_MODEL_ff42d8cf3d93429a881a29e17670e020",
            "placeholder": "​",
            "style": "IPY_MODEL_73ef0ed8e4f9459bb9f7ac60d3c30f9c",
            "value": " 190/190 [00:00&lt;00:00, 250.46it/s]"
          }
        },
        "daf2dbe9f7644233a4c5c0ac33f78591": {
          "model_module": "@jupyter-widgets/base",
          "model_name": "LayoutModel",
          "model_module_version": "1.2.0",
          "state": {
            "_model_module": "@jupyter-widgets/base",
            "_model_module_version": "1.2.0",
            "_model_name": "LayoutModel",
            "_view_count": null,
            "_view_module": "@jupyter-widgets/base",
            "_view_module_version": "1.2.0",
            "_view_name": "LayoutView",
            "align_content": null,
            "align_items": null,
            "align_self": null,
            "border": null,
            "bottom": null,
            "display": null,
            "flex": null,
            "flex_flow": null,
            "grid_area": null,
            "grid_auto_columns": null,
            "grid_auto_flow": null,
            "grid_auto_rows": null,
            "grid_column": null,
            "grid_gap": null,
            "grid_row": null,
            "grid_template_areas": null,
            "grid_template_columns": null,
            "grid_template_rows": null,
            "height": null,
            "justify_content": null,
            "justify_items": null,
            "left": null,
            "margin": null,
            "max_height": null,
            "max_width": null,
            "min_height": null,
            "min_width": null,
            "object_fit": null,
            "object_position": null,
            "order": null,
            "overflow": null,
            "overflow_x": null,
            "overflow_y": null,
            "padding": null,
            "right": null,
            "top": null,
            "visibility": null,
            "width": null
          }
        },
        "5d5b1c85034f4b0597f019b845822cba": {
          "model_module": "@jupyter-widgets/base",
          "model_name": "LayoutModel",
          "model_module_version": "1.2.0",
          "state": {
            "_model_module": "@jupyter-widgets/base",
            "_model_module_version": "1.2.0",
            "_model_name": "LayoutModel",
            "_view_count": null,
            "_view_module": "@jupyter-widgets/base",
            "_view_module_version": "1.2.0",
            "_view_name": "LayoutView",
            "align_content": null,
            "align_items": null,
            "align_self": null,
            "border": null,
            "bottom": null,
            "display": null,
            "flex": null,
            "flex_flow": null,
            "grid_area": null,
            "grid_auto_columns": null,
            "grid_auto_flow": null,
            "grid_auto_rows": null,
            "grid_column": null,
            "grid_gap": null,
            "grid_row": null,
            "grid_template_areas": null,
            "grid_template_columns": null,
            "grid_template_rows": null,
            "height": null,
            "justify_content": null,
            "justify_items": null,
            "left": null,
            "margin": null,
            "max_height": null,
            "max_width": null,
            "min_height": null,
            "min_width": null,
            "object_fit": null,
            "object_position": null,
            "order": null,
            "overflow": null,
            "overflow_x": null,
            "overflow_y": null,
            "padding": null,
            "right": null,
            "top": null,
            "visibility": null,
            "width": null
          }
        },
        "038cf5f3316045ffa5771c12dd2aae08": {
          "model_module": "@jupyter-widgets/controls",
          "model_name": "DescriptionStyleModel",
          "model_module_version": "1.5.0",
          "state": {
            "_model_module": "@jupyter-widgets/controls",
            "_model_module_version": "1.5.0",
            "_model_name": "DescriptionStyleModel",
            "_view_count": null,
            "_view_module": "@jupyter-widgets/base",
            "_view_module_version": "1.2.0",
            "_view_name": "StyleView",
            "description_width": ""
          }
        },
        "56061d0f60e04e8b83a0e968d9fc1eca": {
          "model_module": "@jupyter-widgets/base",
          "model_name": "LayoutModel",
          "model_module_version": "1.2.0",
          "state": {
            "_model_module": "@jupyter-widgets/base",
            "_model_module_version": "1.2.0",
            "_model_name": "LayoutModel",
            "_view_count": null,
            "_view_module": "@jupyter-widgets/base",
            "_view_module_version": "1.2.0",
            "_view_name": "LayoutView",
            "align_content": null,
            "align_items": null,
            "align_self": null,
            "border": null,
            "bottom": null,
            "display": null,
            "flex": null,
            "flex_flow": null,
            "grid_area": null,
            "grid_auto_columns": null,
            "grid_auto_flow": null,
            "grid_auto_rows": null,
            "grid_column": null,
            "grid_gap": null,
            "grid_row": null,
            "grid_template_areas": null,
            "grid_template_columns": null,
            "grid_template_rows": null,
            "height": null,
            "justify_content": null,
            "justify_items": null,
            "left": null,
            "margin": null,
            "max_height": null,
            "max_width": null,
            "min_height": null,
            "min_width": null,
            "object_fit": null,
            "object_position": null,
            "order": null,
            "overflow": null,
            "overflow_x": null,
            "overflow_y": null,
            "padding": null,
            "right": null,
            "top": null,
            "visibility": null,
            "width": null
          }
        },
        "f0d6f28df6da42279ac30be53959a2f0": {
          "model_module": "@jupyter-widgets/controls",
          "model_name": "ProgressStyleModel",
          "model_module_version": "1.5.0",
          "state": {
            "_model_module": "@jupyter-widgets/controls",
            "_model_module_version": "1.5.0",
            "_model_name": "ProgressStyleModel",
            "_view_count": null,
            "_view_module": "@jupyter-widgets/base",
            "_view_module_version": "1.2.0",
            "_view_name": "StyleView",
            "bar_color": null,
            "description_width": ""
          }
        },
        "ff42d8cf3d93429a881a29e17670e020": {
          "model_module": "@jupyter-widgets/base",
          "model_name": "LayoutModel",
          "model_module_version": "1.2.0",
          "state": {
            "_model_module": "@jupyter-widgets/base",
            "_model_module_version": "1.2.0",
            "_model_name": "LayoutModel",
            "_view_count": null,
            "_view_module": "@jupyter-widgets/base",
            "_view_module_version": "1.2.0",
            "_view_name": "LayoutView",
            "align_content": null,
            "align_items": null,
            "align_self": null,
            "border": null,
            "bottom": null,
            "display": null,
            "flex": null,
            "flex_flow": null,
            "grid_area": null,
            "grid_auto_columns": null,
            "grid_auto_flow": null,
            "grid_auto_rows": null,
            "grid_column": null,
            "grid_gap": null,
            "grid_row": null,
            "grid_template_areas": null,
            "grid_template_columns": null,
            "grid_template_rows": null,
            "height": null,
            "justify_content": null,
            "justify_items": null,
            "left": null,
            "margin": null,
            "max_height": null,
            "max_width": null,
            "min_height": null,
            "min_width": null,
            "object_fit": null,
            "object_position": null,
            "order": null,
            "overflow": null,
            "overflow_x": null,
            "overflow_y": null,
            "padding": null,
            "right": null,
            "top": null,
            "visibility": null,
            "width": null
          }
        },
        "73ef0ed8e4f9459bb9f7ac60d3c30f9c": {
          "model_module": "@jupyter-widgets/controls",
          "model_name": "DescriptionStyleModel",
          "model_module_version": "1.5.0",
          "state": {
            "_model_module": "@jupyter-widgets/controls",
            "_model_module_version": "1.5.0",
            "_model_name": "DescriptionStyleModel",
            "_view_count": null,
            "_view_module": "@jupyter-widgets/base",
            "_view_module_version": "1.2.0",
            "_view_name": "StyleView",
            "description_width": ""
          }
        },
        "215996e5d664443c84034bc6dd03334f": {
          "model_module": "@jupyter-widgets/controls",
          "model_name": "HBoxModel",
          "model_module_version": "1.5.0",
          "state": {
            "_dom_classes": [],
            "_model_module": "@jupyter-widgets/controls",
            "_model_module_version": "1.5.0",
            "_model_name": "HBoxModel",
            "_view_count": null,
            "_view_module": "@jupyter-widgets/controls",
            "_view_module_version": "1.5.0",
            "_view_name": "HBoxView",
            "box_style": "",
            "children": [
              "IPY_MODEL_eea9089c121446e182ac4ae59985baf5",
              "IPY_MODEL_e770253bf8004dce833d16a766df4cbd",
              "IPY_MODEL_fc5b0d42ce6342bc89808518fe48bbac"
            ],
            "layout": "IPY_MODEL_bec840d231b949d2b082cb1e207ff495"
          }
        },
        "eea9089c121446e182ac4ae59985baf5": {
          "model_module": "@jupyter-widgets/controls",
          "model_name": "HTMLModel",
          "model_module_version": "1.5.0",
          "state": {
            "_dom_classes": [],
            "_model_module": "@jupyter-widgets/controls",
            "_model_module_version": "1.5.0",
            "_model_name": "HTMLModel",
            "_view_count": null,
            "_view_module": "@jupyter-widgets/controls",
            "_view_module_version": "1.5.0",
            "_view_name": "HTMLView",
            "description": "",
            "description_tooltip": null,
            "layout": "IPY_MODEL_a3445e28dde64ae39a213cb517db3fe5",
            "placeholder": "​",
            "style": "IPY_MODEL_b0d84a83957242a9a5259b63d4da9aec",
            "value": "100%"
          }
        },
        "e770253bf8004dce833d16a766df4cbd": {
          "model_module": "@jupyter-widgets/controls",
          "model_name": "FloatProgressModel",
          "model_module_version": "1.5.0",
          "state": {
            "_dom_classes": [],
            "_model_module": "@jupyter-widgets/controls",
            "_model_module_version": "1.5.0",
            "_model_name": "FloatProgressModel",
            "_view_count": null,
            "_view_module": "@jupyter-widgets/controls",
            "_view_module_version": "1.5.0",
            "_view_name": "ProgressView",
            "bar_style": "success",
            "description": "",
            "description_tooltip": null,
            "layout": "IPY_MODEL_9c1faa3e005b497d95bf92eccd0a4c96",
            "max": 11,
            "min": 0,
            "orientation": "horizontal",
            "style": "IPY_MODEL_daff8eae31b74d51880b82e3d544508c",
            "value": 11
          }
        },
        "fc5b0d42ce6342bc89808518fe48bbac": {
          "model_module": "@jupyter-widgets/controls",
          "model_name": "HTMLModel",
          "model_module_version": "1.5.0",
          "state": {
            "_dom_classes": [],
            "_model_module": "@jupyter-widgets/controls",
            "_model_module_version": "1.5.0",
            "_model_name": "HTMLModel",
            "_view_count": null,
            "_view_module": "@jupyter-widgets/controls",
            "_view_module_version": "1.5.0",
            "_view_name": "HTMLView",
            "description": "",
            "description_tooltip": null,
            "layout": "IPY_MODEL_0e40779893a74c85b2549618aea5768a",
            "placeholder": "​",
            "style": "IPY_MODEL_0198a690a5874d4f9aac2496e5a4ff8a",
            "value": " 11/11 [00:02&lt;00:00,  5.86it/s]"
          }
        },
        "bec840d231b949d2b082cb1e207ff495": {
          "model_module": "@jupyter-widgets/base",
          "model_name": "LayoutModel",
          "model_module_version": "1.2.0",
          "state": {
            "_model_module": "@jupyter-widgets/base",
            "_model_module_version": "1.2.0",
            "_model_name": "LayoutModel",
            "_view_count": null,
            "_view_module": "@jupyter-widgets/base",
            "_view_module_version": "1.2.0",
            "_view_name": "LayoutView",
            "align_content": null,
            "align_items": null,
            "align_self": null,
            "border": null,
            "bottom": null,
            "display": null,
            "flex": null,
            "flex_flow": null,
            "grid_area": null,
            "grid_auto_columns": null,
            "grid_auto_flow": null,
            "grid_auto_rows": null,
            "grid_column": null,
            "grid_gap": null,
            "grid_row": null,
            "grid_template_areas": null,
            "grid_template_columns": null,
            "grid_template_rows": null,
            "height": null,
            "justify_content": null,
            "justify_items": null,
            "left": null,
            "margin": null,
            "max_height": null,
            "max_width": null,
            "min_height": null,
            "min_width": null,
            "object_fit": null,
            "object_position": null,
            "order": null,
            "overflow": null,
            "overflow_x": null,
            "overflow_y": null,
            "padding": null,
            "right": null,
            "top": null,
            "visibility": null,
            "width": null
          }
        },
        "a3445e28dde64ae39a213cb517db3fe5": {
          "model_module": "@jupyter-widgets/base",
          "model_name": "LayoutModel",
          "model_module_version": "1.2.0",
          "state": {
            "_model_module": "@jupyter-widgets/base",
            "_model_module_version": "1.2.0",
            "_model_name": "LayoutModel",
            "_view_count": null,
            "_view_module": "@jupyter-widgets/base",
            "_view_module_version": "1.2.0",
            "_view_name": "LayoutView",
            "align_content": null,
            "align_items": null,
            "align_self": null,
            "border": null,
            "bottom": null,
            "display": null,
            "flex": null,
            "flex_flow": null,
            "grid_area": null,
            "grid_auto_columns": null,
            "grid_auto_flow": null,
            "grid_auto_rows": null,
            "grid_column": null,
            "grid_gap": null,
            "grid_row": null,
            "grid_template_areas": null,
            "grid_template_columns": null,
            "grid_template_rows": null,
            "height": null,
            "justify_content": null,
            "justify_items": null,
            "left": null,
            "margin": null,
            "max_height": null,
            "max_width": null,
            "min_height": null,
            "min_width": null,
            "object_fit": null,
            "object_position": null,
            "order": null,
            "overflow": null,
            "overflow_x": null,
            "overflow_y": null,
            "padding": null,
            "right": null,
            "top": null,
            "visibility": null,
            "width": null
          }
        },
        "b0d84a83957242a9a5259b63d4da9aec": {
          "model_module": "@jupyter-widgets/controls",
          "model_name": "DescriptionStyleModel",
          "model_module_version": "1.5.0",
          "state": {
            "_model_module": "@jupyter-widgets/controls",
            "_model_module_version": "1.5.0",
            "_model_name": "DescriptionStyleModel",
            "_view_count": null,
            "_view_module": "@jupyter-widgets/base",
            "_view_module_version": "1.2.0",
            "_view_name": "StyleView",
            "description_width": ""
          }
        },
        "9c1faa3e005b497d95bf92eccd0a4c96": {
          "model_module": "@jupyter-widgets/base",
          "model_name": "LayoutModel",
          "model_module_version": "1.2.0",
          "state": {
            "_model_module": "@jupyter-widgets/base",
            "_model_module_version": "1.2.0",
            "_model_name": "LayoutModel",
            "_view_count": null,
            "_view_module": "@jupyter-widgets/base",
            "_view_module_version": "1.2.0",
            "_view_name": "LayoutView",
            "align_content": null,
            "align_items": null,
            "align_self": null,
            "border": null,
            "bottom": null,
            "display": null,
            "flex": null,
            "flex_flow": null,
            "grid_area": null,
            "grid_auto_columns": null,
            "grid_auto_flow": null,
            "grid_auto_rows": null,
            "grid_column": null,
            "grid_gap": null,
            "grid_row": null,
            "grid_template_areas": null,
            "grid_template_columns": null,
            "grid_template_rows": null,
            "height": null,
            "justify_content": null,
            "justify_items": null,
            "left": null,
            "margin": null,
            "max_height": null,
            "max_width": null,
            "min_height": null,
            "min_width": null,
            "object_fit": null,
            "object_position": null,
            "order": null,
            "overflow": null,
            "overflow_x": null,
            "overflow_y": null,
            "padding": null,
            "right": null,
            "top": null,
            "visibility": null,
            "width": null
          }
        },
        "daff8eae31b74d51880b82e3d544508c": {
          "model_module": "@jupyter-widgets/controls",
          "model_name": "ProgressStyleModel",
          "model_module_version": "1.5.0",
          "state": {
            "_model_module": "@jupyter-widgets/controls",
            "_model_module_version": "1.5.0",
            "_model_name": "ProgressStyleModel",
            "_view_count": null,
            "_view_module": "@jupyter-widgets/base",
            "_view_module_version": "1.2.0",
            "_view_name": "StyleView",
            "bar_color": null,
            "description_width": ""
          }
        },
        "0e40779893a74c85b2549618aea5768a": {
          "model_module": "@jupyter-widgets/base",
          "model_name": "LayoutModel",
          "model_module_version": "1.2.0",
          "state": {
            "_model_module": "@jupyter-widgets/base",
            "_model_module_version": "1.2.0",
            "_model_name": "LayoutModel",
            "_view_count": null,
            "_view_module": "@jupyter-widgets/base",
            "_view_module_version": "1.2.0",
            "_view_name": "LayoutView",
            "align_content": null,
            "align_items": null,
            "align_self": null,
            "border": null,
            "bottom": null,
            "display": null,
            "flex": null,
            "flex_flow": null,
            "grid_area": null,
            "grid_auto_columns": null,
            "grid_auto_flow": null,
            "grid_auto_rows": null,
            "grid_column": null,
            "grid_gap": null,
            "grid_row": null,
            "grid_template_areas": null,
            "grid_template_columns": null,
            "grid_template_rows": null,
            "height": null,
            "justify_content": null,
            "justify_items": null,
            "left": null,
            "margin": null,
            "max_height": null,
            "max_width": null,
            "min_height": null,
            "min_width": null,
            "object_fit": null,
            "object_position": null,
            "order": null,
            "overflow": null,
            "overflow_x": null,
            "overflow_y": null,
            "padding": null,
            "right": null,
            "top": null,
            "visibility": null,
            "width": null
          }
        },
        "0198a690a5874d4f9aac2496e5a4ff8a": {
          "model_module": "@jupyter-widgets/controls",
          "model_name": "DescriptionStyleModel",
          "model_module_version": "1.5.0",
          "state": {
            "_model_module": "@jupyter-widgets/controls",
            "_model_module_version": "1.5.0",
            "_model_name": "DescriptionStyleModel",
            "_view_count": null,
            "_view_module": "@jupyter-widgets/base",
            "_view_module_version": "1.2.0",
            "_view_name": "StyleView",
            "description_width": ""
          }
        }
      }
    }
  },
  "cells": [
    {
      "cell_type": "code",
      "source": [
        "from google.colab import drive\n",
        "drive.mount('/content/drive')"
      ],
      "metadata": {
        "id": "IWWxYdxxHGnE",
        "colab": {
          "base_uri": "https://localhost:8080/"
        },
        "outputId": "0933a9b6-14b0-425d-b90d-f0f62c679a91"
      },
      "execution_count": 1,
      "outputs": [
        {
          "output_type": "stream",
          "name": "stdout",
          "text": [
            "Mounted at /content/drive\n"
          ]
        }
      ]
    },
    {
      "cell_type": "code",
      "execution_count": 2,
      "metadata": {
        "id": "tGJCt47vHEg7",
        "colab": {
          "base_uri": "https://localhost:8080/"
        },
        "outputId": "10e39e14-364a-477b-b083-3c03282a96ec"
      },
      "outputs": [
        {
          "output_type": "stream",
          "name": "stdout",
          "text": [
            "/content/drive/.shortcut-targets-by-id/1BUDjtdkbYP6ayadYsrcyHHHfPTJigLdc/IEEE-CIS\n"
          ]
        }
      ],
      "source": [
        "%cd /content/drive/MyDrive/IEEE-CIS/"
      ]
    },
    {
      "cell_type": "code",
      "source": [
        "!ls"
      ],
      "metadata": {
        "id": "tMJJNXDjHNMD",
        "colab": {
          "base_uri": "https://localhost:8080/"
        },
        "outputId": "564ee57c-aae3-4625-8851-a643bef91e5a"
      },
      "execution_count": 3,
      "outputs": [
        {
          "output_type": "stream",
          "name": "stdout",
          "text": [
            "fpr_hist.npy\t  __pycache__\t\ttpr_logistic.npy  train_identity.csv\n",
            "fpr_logistic.npy  test_df.csv\t\ttpr_rf.npy\t  train_transaction.csv\n",
            "fpr_rf.npy\t  test_transaction.csv\ttpr_xgb.npy\t  util_data_cleaning.py\n",
            "fpr_xgb.npy\t  tpr_hist.npy\t\ttrain_df.csv\t  util_reporting.py\n"
          ]
        }
      ]
    },
    {
      "cell_type": "code",
      "source": [
        "import pandas as pd\n",
        "pd.set_option('display.max_columns', None)\n",
        "pd.set_option('display.max_rows', None)"
      ],
      "metadata": {
        "id": "Qv6FS0KqHKAT"
      },
      "execution_count": 4,
      "outputs": []
    },
    {
      "cell_type": "code",
      "source": [
        "# load provided datasets\n",
        "train_transaction = pd.read_csv('train_transaction.csv')\n",
        "train_identity = pd.read_csv('train_identity.csv')\n",
        "\n",
        "# combine datasets as needed\n",
        "train = pd.merge(train_transaction, train_identity, on='TransactionID', how='left')"
      ],
      "metadata": {
        "id": "aLmwd-VtHLud"
      },
      "execution_count": 5,
      "outputs": []
    },
    {
      "cell_type": "code",
      "source": [
        "# Get useful features\n",
        "\n",
        "# The dataset are sparse, only consider the features with less than 30% missing data\n",
        "valid_cols = pd.DataFrame(train.isnull().sum()/len(train)*100 < 30)\n",
        "valid_cols = valid_cols[valid_cols[0] == True]\n",
        "train = train[list(valid_cols.index)]\n",
        "\n",
        "y = train['isFraud']\n",
        "X = train.drop(columns=['isFraud'])"
      ],
      "metadata": {
        "id": "R1yeLUpWZAFP"
      },
      "execution_count": 6,
      "outputs": []
    },
    {
      "cell_type": "code",
      "source": [
        "categorical_features = {'ProductCD': 'category',\n",
        "                   'card1': 'category','card2': 'category','card3': 'category','card4': 'category','card5': 'category','card6': 'category',\n",
        "                   'addr1': 'category','addr2': 'category',\n",
        "                   'P_emaildomain': 'category',\n",
        "                   'M6': 'category'}\n",
        "categorical_features = list(categorical_features.keys())\n",
        "continuous_features = list(filter(lambda x: x not in categorical_features, X))"
      ],
      "metadata": {
        "id": "gelsiEvp6AEW"
      },
      "execution_count": 7,
      "outputs": []
    },
    {
      "cell_type": "code",
      "source": [
        "# Reference: https://www.kaggle.com/code/abazdyrev/keras-nn-focal-loss-experiments\n",
        "class ContinuousFeatureConverter:\n",
        "    def __init__(self, name, feature, log_transform):\n",
        "        self.name = name\n",
        "        self.skew = feature.skew()\n",
        "        self.log_transform = log_transform\n",
        "        \n",
        "    def transform(self, feature):\n",
        "        if self.skew > 1:\n",
        "            feature = self.log_transform(feature)\n",
        "        \n",
        "        mean = feature.mean()\n",
        "        std = feature.std()\n",
        "        return (feature - mean)/(std + 1e-6)        \n"
      ],
      "metadata": {
        "id": "bWxsfvtlZ5Kv"
      },
      "execution_count": 8,
      "outputs": []
    },
    {
      "cell_type": "code",
      "source": [
        "# Reference: https://www.kaggle.com/code/abazdyrev/keras-nn-focal-loss-experiments\n",
        "from tqdm.autonotebook import tqdm\n",
        "import numpy as np\n",
        "\n",
        "feature_converters = {}\n",
        "continuous_features_processed = []\n",
        "continuous_features_processed_test = []\n",
        "\n",
        "for f in tqdm(continuous_features):\n",
        "    feature = X[f]\n",
        "    log = lambda x: np.log10(x + 1 - min(0, x.min()))\n",
        "    converter = ContinuousFeatureConverter(f, feature, log)\n",
        "    feature_converters[f] = converter\n",
        "    continuous_features_processed.append(converter.transform(feature))\n",
        "    \n",
        "continuous_train = pd.DataFrame({s.name: s for s in continuous_features_processed}).astype(np.float32)"
      ],
      "metadata": {
        "id": "WyU4kvAMi62e",
        "colab": {
          "base_uri": "https://localhost:8080/",
          "height": 84,
          "referenced_widgets": [
            "cacbe4d9c3dd407fb41600a93550b707",
            "1fcb1ab9202e4c679c7406022caf673c",
            "f50036d9dbbe442da9543457fb2e5448",
            "da4dde1f7fb346a3b3e78c0255a271cb",
            "fb927daaa8854672ab395b5954bc2062",
            "2d62b2df4ab74dcc80d3e036f6704faa",
            "a336e2b7f62646d3af7a50d0e4403a78",
            "942679a968db403e9ef7af445279e9f7",
            "5059fedd99cd4ad5b98c8294d9174771",
            "c161c6db56344d1ba7fd257cd3317490",
            "188b9a9f36e74fa7a955356e2ec9d238"
          ]
        },
        "outputId": "50bbfc6a-ac25-4e6a-a3fa-fd12ecf77e1a"
      },
      "execution_count": 9,
      "outputs": [
        {
          "output_type": "stream",
          "name": "stderr",
          "text": [
            "<ipython-input-9-1f905bb7cbd5>:2: TqdmExperimentalWarning: Using `tqdm.autonotebook.tqdm` in notebook mode. Use `tqdm.tqdm` instead to force console mode (e.g. in jupyter console)\n",
            "  from tqdm.autonotebook import tqdm\n"
          ]
        },
        {
          "output_type": "display_data",
          "data": {
            "text/plain": [
              "  0%|          | 0/190 [00:00<?, ?it/s]"
            ],
            "application/vnd.jupyter.widget-view+json": {
              "version_major": 2,
              "version_minor": 0,
              "model_id": "cacbe4d9c3dd407fb41600a93550b707"
            }
          },
          "metadata": {}
        }
      ]
    },
    {
      "cell_type": "code",
      "source": [
        "continuous_train['isna_sum'] = continuous_train.isna().sum(axis=1)\n",
        "\n",
        "continuous_train['isna_sum'] = (continuous_train['isna_sum'] - continuous_train['isna_sum'].mean())/continuous_train['isna_sum'].std()\n"
      ],
      "metadata": {
        "id": "GwPiSXjoi-EA"
      },
      "execution_count": 10,
      "outputs": []
    },
    {
      "cell_type": "code",
      "source": [
        "# Reference: https://www.kaggle.com/code/abazdyrev/keras-nn-focal-loss-experiments\n",
        "isna_columns = []\n",
        "for column in tqdm(continuous_features):\n",
        "    isna = continuous_train[column].isna()\n",
        "    if isna.mean() > 0.:\n",
        "        continuous_train[column + '_isna'] = isna.astype(int)\n",
        "        isna_columns.append(column)\n",
        "        \n",
        "continuous_train = continuous_train.fillna(0.)\n"
      ],
      "metadata": {
        "id": "5jPTGUmtjQak",
        "colab": {
          "base_uri": "https://localhost:8080/",
          "height": 1000,
          "referenced_widgets": [
            "7fdbb9e26b9d475e89192fd8802071f4",
            "62c43f7ff42b45b4bf22d729dece7ab4",
            "5838d338963a4eff939a3dff24cf91a3",
            "f1ad187c32ce4aeb8f52ec6c5c841117",
            "daf2dbe9f7644233a4c5c0ac33f78591",
            "5d5b1c85034f4b0597f019b845822cba",
            "038cf5f3316045ffa5771c12dd2aae08",
            "56061d0f60e04e8b83a0e968d9fc1eca",
            "f0d6f28df6da42279ac30be53959a2f0",
            "ff42d8cf3d93429a881a29e17670e020",
            "73ef0ed8e4f9459bb9f7ac60d3c30f9c"
          ]
        },
        "outputId": "df8b139a-e7d7-4527-9729-fb38f1c31edf"
      },
      "execution_count": 11,
      "outputs": [
        {
          "output_type": "display_data",
          "data": {
            "text/plain": [
              "  0%|          | 0/190 [00:00<?, ?it/s]"
            ],
            "application/vnd.jupyter.widget-view+json": {
              "version_major": 2,
              "version_minor": 0,
              "model_id": "7fdbb9e26b9d475e89192fd8802071f4"
            }
          },
          "metadata": {}
        },
        {
          "output_type": "stream",
          "name": "stderr",
          "text": [
            "<ipython-input-11-db2b5e10a346>:6: PerformanceWarning: DataFrame is highly fragmented.  This is usually the result of calling `frame.insert` many times, which has poor performance.  Consider joining all columns at once using pd.concat(axis=1) instead. To get a de-fragmented frame, use `newframe = frame.copy()`\n",
            "  continuous_train[column + '_isna'] = isna.astype(int)\n",
            "<ipython-input-11-db2b5e10a346>:6: PerformanceWarning: DataFrame is highly fragmented.  This is usually the result of calling `frame.insert` many times, which has poor performance.  Consider joining all columns at once using pd.concat(axis=1) instead. To get a de-fragmented frame, use `newframe = frame.copy()`\n",
            "  continuous_train[column + '_isna'] = isna.astype(int)\n",
            "<ipython-input-11-db2b5e10a346>:6: PerformanceWarning: DataFrame is highly fragmented.  This is usually the result of calling `frame.insert` many times, which has poor performance.  Consider joining all columns at once using pd.concat(axis=1) instead. To get a de-fragmented frame, use `newframe = frame.copy()`\n",
            "  continuous_train[column + '_isna'] = isna.astype(int)\n",
            "<ipython-input-11-db2b5e10a346>:6: PerformanceWarning: DataFrame is highly fragmented.  This is usually the result of calling `frame.insert` many times, which has poor performance.  Consider joining all columns at once using pd.concat(axis=1) instead. To get a de-fragmented frame, use `newframe = frame.copy()`\n",
            "  continuous_train[column + '_isna'] = isna.astype(int)\n",
            "<ipython-input-11-db2b5e10a346>:6: PerformanceWarning: DataFrame is highly fragmented.  This is usually the result of calling `frame.insert` many times, which has poor performance.  Consider joining all columns at once using pd.concat(axis=1) instead. To get a de-fragmented frame, use `newframe = frame.copy()`\n",
            "  continuous_train[column + '_isna'] = isna.astype(int)\n",
            "<ipython-input-11-db2b5e10a346>:6: PerformanceWarning: DataFrame is highly fragmented.  This is usually the result of calling `frame.insert` many times, which has poor performance.  Consider joining all columns at once using pd.concat(axis=1) instead. To get a de-fragmented frame, use `newframe = frame.copy()`\n",
            "  continuous_train[column + '_isna'] = isna.astype(int)\n",
            "<ipython-input-11-db2b5e10a346>:6: PerformanceWarning: DataFrame is highly fragmented.  This is usually the result of calling `frame.insert` many times, which has poor performance.  Consider joining all columns at once using pd.concat(axis=1) instead. To get a de-fragmented frame, use `newframe = frame.copy()`\n",
            "  continuous_train[column + '_isna'] = isna.astype(int)\n",
            "<ipython-input-11-db2b5e10a346>:6: PerformanceWarning: DataFrame is highly fragmented.  This is usually the result of calling `frame.insert` many times, which has poor performance.  Consider joining all columns at once using pd.concat(axis=1) instead. To get a de-fragmented frame, use `newframe = frame.copy()`\n",
            "  continuous_train[column + '_isna'] = isna.astype(int)\n",
            "<ipython-input-11-db2b5e10a346>:6: PerformanceWarning: DataFrame is highly fragmented.  This is usually the result of calling `frame.insert` many times, which has poor performance.  Consider joining all columns at once using pd.concat(axis=1) instead. To get a de-fragmented frame, use `newframe = frame.copy()`\n",
            "  continuous_train[column + '_isna'] = isna.astype(int)\n",
            "<ipython-input-11-db2b5e10a346>:6: PerformanceWarning: DataFrame is highly fragmented.  This is usually the result of calling `frame.insert` many times, which has poor performance.  Consider joining all columns at once using pd.concat(axis=1) instead. To get a de-fragmented frame, use `newframe = frame.copy()`\n",
            "  continuous_train[column + '_isna'] = isna.astype(int)\n",
            "<ipython-input-11-db2b5e10a346>:6: PerformanceWarning: DataFrame is highly fragmented.  This is usually the result of calling `frame.insert` many times, which has poor performance.  Consider joining all columns at once using pd.concat(axis=1) instead. To get a de-fragmented frame, use `newframe = frame.copy()`\n",
            "  continuous_train[column + '_isna'] = isna.astype(int)\n",
            "<ipython-input-11-db2b5e10a346>:6: PerformanceWarning: DataFrame is highly fragmented.  This is usually the result of calling `frame.insert` many times, which has poor performance.  Consider joining all columns at once using pd.concat(axis=1) instead. To get a de-fragmented frame, use `newframe = frame.copy()`\n",
            "  continuous_train[column + '_isna'] = isna.astype(int)\n",
            "<ipython-input-11-db2b5e10a346>:6: PerformanceWarning: DataFrame is highly fragmented.  This is usually the result of calling `frame.insert` many times, which has poor performance.  Consider joining all columns at once using pd.concat(axis=1) instead. To get a de-fragmented frame, use `newframe = frame.copy()`\n",
            "  continuous_train[column + '_isna'] = isna.astype(int)\n",
            "<ipython-input-11-db2b5e10a346>:6: PerformanceWarning: DataFrame is highly fragmented.  This is usually the result of calling `frame.insert` many times, which has poor performance.  Consider joining all columns at once using pd.concat(axis=1) instead. To get a de-fragmented frame, use `newframe = frame.copy()`\n",
            "  continuous_train[column + '_isna'] = isna.astype(int)\n",
            "<ipython-input-11-db2b5e10a346>:6: PerformanceWarning: DataFrame is highly fragmented.  This is usually the result of calling `frame.insert` many times, which has poor performance.  Consider joining all columns at once using pd.concat(axis=1) instead. To get a de-fragmented frame, use `newframe = frame.copy()`\n",
            "  continuous_train[column + '_isna'] = isna.astype(int)\n",
            "<ipython-input-11-db2b5e10a346>:6: PerformanceWarning: DataFrame is highly fragmented.  This is usually the result of calling `frame.insert` many times, which has poor performance.  Consider joining all columns at once using pd.concat(axis=1) instead. To get a de-fragmented frame, use `newframe = frame.copy()`\n",
            "  continuous_train[column + '_isna'] = isna.astype(int)\n",
            "<ipython-input-11-db2b5e10a346>:6: PerformanceWarning: DataFrame is highly fragmented.  This is usually the result of calling `frame.insert` many times, which has poor performance.  Consider joining all columns at once using pd.concat(axis=1) instead. To get a de-fragmented frame, use `newframe = frame.copy()`\n",
            "  continuous_train[column + '_isna'] = isna.astype(int)\n",
            "<ipython-input-11-db2b5e10a346>:6: PerformanceWarning: DataFrame is highly fragmented.  This is usually the result of calling `frame.insert` many times, which has poor performance.  Consider joining all columns at once using pd.concat(axis=1) instead. To get a de-fragmented frame, use `newframe = frame.copy()`\n",
            "  continuous_train[column + '_isna'] = isna.astype(int)\n",
            "<ipython-input-11-db2b5e10a346>:6: PerformanceWarning: DataFrame is highly fragmented.  This is usually the result of calling `frame.insert` many times, which has poor performance.  Consider joining all columns at once using pd.concat(axis=1) instead. To get a de-fragmented frame, use `newframe = frame.copy()`\n",
            "  continuous_train[column + '_isna'] = isna.astype(int)\n",
            "<ipython-input-11-db2b5e10a346>:6: PerformanceWarning: DataFrame is highly fragmented.  This is usually the result of calling `frame.insert` many times, which has poor performance.  Consider joining all columns at once using pd.concat(axis=1) instead. To get a de-fragmented frame, use `newframe = frame.copy()`\n",
            "  continuous_train[column + '_isna'] = isna.astype(int)\n",
            "<ipython-input-11-db2b5e10a346>:6: PerformanceWarning: DataFrame is highly fragmented.  This is usually the result of calling `frame.insert` many times, which has poor performance.  Consider joining all columns at once using pd.concat(axis=1) instead. To get a de-fragmented frame, use `newframe = frame.copy()`\n",
            "  continuous_train[column + '_isna'] = isna.astype(int)\n",
            "<ipython-input-11-db2b5e10a346>:6: PerformanceWarning: DataFrame is highly fragmented.  This is usually the result of calling `frame.insert` many times, which has poor performance.  Consider joining all columns at once using pd.concat(axis=1) instead. To get a de-fragmented frame, use `newframe = frame.copy()`\n",
            "  continuous_train[column + '_isna'] = isna.astype(int)\n",
            "<ipython-input-11-db2b5e10a346>:6: PerformanceWarning: DataFrame is highly fragmented.  This is usually the result of calling `frame.insert` many times, which has poor performance.  Consider joining all columns at once using pd.concat(axis=1) instead. To get a de-fragmented frame, use `newframe = frame.copy()`\n",
            "  continuous_train[column + '_isna'] = isna.astype(int)\n",
            "<ipython-input-11-db2b5e10a346>:6: PerformanceWarning: DataFrame is highly fragmented.  This is usually the result of calling `frame.insert` many times, which has poor performance.  Consider joining all columns at once using pd.concat(axis=1) instead. To get a de-fragmented frame, use `newframe = frame.copy()`\n",
            "  continuous_train[column + '_isna'] = isna.astype(int)\n",
            "<ipython-input-11-db2b5e10a346>:6: PerformanceWarning: DataFrame is highly fragmented.  This is usually the result of calling `frame.insert` many times, which has poor performance.  Consider joining all columns at once using pd.concat(axis=1) instead. To get a de-fragmented frame, use `newframe = frame.copy()`\n",
            "  continuous_train[column + '_isna'] = isna.astype(int)\n",
            "<ipython-input-11-db2b5e10a346>:6: PerformanceWarning: DataFrame is highly fragmented.  This is usually the result of calling `frame.insert` many times, which has poor performance.  Consider joining all columns at once using pd.concat(axis=1) instead. To get a de-fragmented frame, use `newframe = frame.copy()`\n",
            "  continuous_train[column + '_isna'] = isna.astype(int)\n",
            "<ipython-input-11-db2b5e10a346>:6: PerformanceWarning: DataFrame is highly fragmented.  This is usually the result of calling `frame.insert` many times, which has poor performance.  Consider joining all columns at once using pd.concat(axis=1) instead. To get a de-fragmented frame, use `newframe = frame.copy()`\n",
            "  continuous_train[column + '_isna'] = isna.astype(int)\n",
            "<ipython-input-11-db2b5e10a346>:6: PerformanceWarning: DataFrame is highly fragmented.  This is usually the result of calling `frame.insert` many times, which has poor performance.  Consider joining all columns at once using pd.concat(axis=1) instead. To get a de-fragmented frame, use `newframe = frame.copy()`\n",
            "  continuous_train[column + '_isna'] = isna.astype(int)\n",
            "<ipython-input-11-db2b5e10a346>:6: PerformanceWarning: DataFrame is highly fragmented.  This is usually the result of calling `frame.insert` many times, which has poor performance.  Consider joining all columns at once using pd.concat(axis=1) instead. To get a de-fragmented frame, use `newframe = frame.copy()`\n",
            "  continuous_train[column + '_isna'] = isna.astype(int)\n",
            "<ipython-input-11-db2b5e10a346>:6: PerformanceWarning: DataFrame is highly fragmented.  This is usually the result of calling `frame.insert` many times, which has poor performance.  Consider joining all columns at once using pd.concat(axis=1) instead. To get a de-fragmented frame, use `newframe = frame.copy()`\n",
            "  continuous_train[column + '_isna'] = isna.astype(int)\n",
            "<ipython-input-11-db2b5e10a346>:6: PerformanceWarning: DataFrame is highly fragmented.  This is usually the result of calling `frame.insert` many times, which has poor performance.  Consider joining all columns at once using pd.concat(axis=1) instead. To get a de-fragmented frame, use `newframe = frame.copy()`\n",
            "  continuous_train[column + '_isna'] = isna.astype(int)\n",
            "<ipython-input-11-db2b5e10a346>:6: PerformanceWarning: DataFrame is highly fragmented.  This is usually the result of calling `frame.insert` many times, which has poor performance.  Consider joining all columns at once using pd.concat(axis=1) instead. To get a de-fragmented frame, use `newframe = frame.copy()`\n",
            "  continuous_train[column + '_isna'] = isna.astype(int)\n",
            "<ipython-input-11-db2b5e10a346>:6: PerformanceWarning: DataFrame is highly fragmented.  This is usually the result of calling `frame.insert` many times, which has poor performance.  Consider joining all columns at once using pd.concat(axis=1) instead. To get a de-fragmented frame, use `newframe = frame.copy()`\n",
            "  continuous_train[column + '_isna'] = isna.astype(int)\n",
            "<ipython-input-11-db2b5e10a346>:6: PerformanceWarning: DataFrame is highly fragmented.  This is usually the result of calling `frame.insert` many times, which has poor performance.  Consider joining all columns at once using pd.concat(axis=1) instead. To get a de-fragmented frame, use `newframe = frame.copy()`\n",
            "  continuous_train[column + '_isna'] = isna.astype(int)\n",
            "<ipython-input-11-db2b5e10a346>:6: PerformanceWarning: DataFrame is highly fragmented.  This is usually the result of calling `frame.insert` many times, which has poor performance.  Consider joining all columns at once using pd.concat(axis=1) instead. To get a de-fragmented frame, use `newframe = frame.copy()`\n",
            "  continuous_train[column + '_isna'] = isna.astype(int)\n",
            "<ipython-input-11-db2b5e10a346>:6: PerformanceWarning: DataFrame is highly fragmented.  This is usually the result of calling `frame.insert` many times, which has poor performance.  Consider joining all columns at once using pd.concat(axis=1) instead. To get a de-fragmented frame, use `newframe = frame.copy()`\n",
            "  continuous_train[column + '_isna'] = isna.astype(int)\n",
            "<ipython-input-11-db2b5e10a346>:6: PerformanceWarning: DataFrame is highly fragmented.  This is usually the result of calling `frame.insert` many times, which has poor performance.  Consider joining all columns at once using pd.concat(axis=1) instead. To get a de-fragmented frame, use `newframe = frame.copy()`\n",
            "  continuous_train[column + '_isna'] = isna.astype(int)\n",
            "<ipython-input-11-db2b5e10a346>:6: PerformanceWarning: DataFrame is highly fragmented.  This is usually the result of calling `frame.insert` many times, which has poor performance.  Consider joining all columns at once using pd.concat(axis=1) instead. To get a de-fragmented frame, use `newframe = frame.copy()`\n",
            "  continuous_train[column + '_isna'] = isna.astype(int)\n",
            "<ipython-input-11-db2b5e10a346>:6: PerformanceWarning: DataFrame is highly fragmented.  This is usually the result of calling `frame.insert` many times, which has poor performance.  Consider joining all columns at once using pd.concat(axis=1) instead. To get a de-fragmented frame, use `newframe = frame.copy()`\n",
            "  continuous_train[column + '_isna'] = isna.astype(int)\n",
            "<ipython-input-11-db2b5e10a346>:6: PerformanceWarning: DataFrame is highly fragmented.  This is usually the result of calling `frame.insert` many times, which has poor performance.  Consider joining all columns at once using pd.concat(axis=1) instead. To get a de-fragmented frame, use `newframe = frame.copy()`\n",
            "  continuous_train[column + '_isna'] = isna.astype(int)\n",
            "<ipython-input-11-db2b5e10a346>:6: PerformanceWarning: DataFrame is highly fragmented.  This is usually the result of calling `frame.insert` many times, which has poor performance.  Consider joining all columns at once using pd.concat(axis=1) instead. To get a de-fragmented frame, use `newframe = frame.copy()`\n",
            "  continuous_train[column + '_isna'] = isna.astype(int)\n",
            "<ipython-input-11-db2b5e10a346>:6: PerformanceWarning: DataFrame is highly fragmented.  This is usually the result of calling `frame.insert` many times, which has poor performance.  Consider joining all columns at once using pd.concat(axis=1) instead. To get a de-fragmented frame, use `newframe = frame.copy()`\n",
            "  continuous_train[column + '_isna'] = isna.astype(int)\n",
            "<ipython-input-11-db2b5e10a346>:6: PerformanceWarning: DataFrame is highly fragmented.  This is usually the result of calling `frame.insert` many times, which has poor performance.  Consider joining all columns at once using pd.concat(axis=1) instead. To get a de-fragmented frame, use `newframe = frame.copy()`\n",
            "  continuous_train[column + '_isna'] = isna.astype(int)\n",
            "<ipython-input-11-db2b5e10a346>:6: PerformanceWarning: DataFrame is highly fragmented.  This is usually the result of calling `frame.insert` many times, which has poor performance.  Consider joining all columns at once using pd.concat(axis=1) instead. To get a de-fragmented frame, use `newframe = frame.copy()`\n",
            "  continuous_train[column + '_isna'] = isna.astype(int)\n",
            "<ipython-input-11-db2b5e10a346>:6: PerformanceWarning: DataFrame is highly fragmented.  This is usually the result of calling `frame.insert` many times, which has poor performance.  Consider joining all columns at once using pd.concat(axis=1) instead. To get a de-fragmented frame, use `newframe = frame.copy()`\n",
            "  continuous_train[column + '_isna'] = isna.astype(int)\n",
            "<ipython-input-11-db2b5e10a346>:6: PerformanceWarning: DataFrame is highly fragmented.  This is usually the result of calling `frame.insert` many times, which has poor performance.  Consider joining all columns at once using pd.concat(axis=1) instead. To get a de-fragmented frame, use `newframe = frame.copy()`\n",
            "  continuous_train[column + '_isna'] = isna.astype(int)\n",
            "<ipython-input-11-db2b5e10a346>:6: PerformanceWarning: DataFrame is highly fragmented.  This is usually the result of calling `frame.insert` many times, which has poor performance.  Consider joining all columns at once using pd.concat(axis=1) instead. To get a de-fragmented frame, use `newframe = frame.copy()`\n",
            "  continuous_train[column + '_isna'] = isna.astype(int)\n",
            "<ipython-input-11-db2b5e10a346>:6: PerformanceWarning: DataFrame is highly fragmented.  This is usually the result of calling `frame.insert` many times, which has poor performance.  Consider joining all columns at once using pd.concat(axis=1) instead. To get a de-fragmented frame, use `newframe = frame.copy()`\n",
            "  continuous_train[column + '_isna'] = isna.astype(int)\n",
            "<ipython-input-11-db2b5e10a346>:6: PerformanceWarning: DataFrame is highly fragmented.  This is usually the result of calling `frame.insert` many times, which has poor performance.  Consider joining all columns at once using pd.concat(axis=1) instead. To get a de-fragmented frame, use `newframe = frame.copy()`\n",
            "  continuous_train[column + '_isna'] = isna.astype(int)\n",
            "<ipython-input-11-db2b5e10a346>:6: PerformanceWarning: DataFrame is highly fragmented.  This is usually the result of calling `frame.insert` many times, which has poor performance.  Consider joining all columns at once using pd.concat(axis=1) instead. To get a de-fragmented frame, use `newframe = frame.copy()`\n",
            "  continuous_train[column + '_isna'] = isna.astype(int)\n",
            "<ipython-input-11-db2b5e10a346>:6: PerformanceWarning: DataFrame is highly fragmented.  This is usually the result of calling `frame.insert` many times, which has poor performance.  Consider joining all columns at once using pd.concat(axis=1) instead. To get a de-fragmented frame, use `newframe = frame.copy()`\n",
            "  continuous_train[column + '_isna'] = isna.astype(int)\n",
            "<ipython-input-11-db2b5e10a346>:6: PerformanceWarning: DataFrame is highly fragmented.  This is usually the result of calling `frame.insert` many times, which has poor performance.  Consider joining all columns at once using pd.concat(axis=1) instead. To get a de-fragmented frame, use `newframe = frame.copy()`\n",
            "  continuous_train[column + '_isna'] = isna.astype(int)\n",
            "<ipython-input-11-db2b5e10a346>:6: PerformanceWarning: DataFrame is highly fragmented.  This is usually the result of calling `frame.insert` many times, which has poor performance.  Consider joining all columns at once using pd.concat(axis=1) instead. To get a de-fragmented frame, use `newframe = frame.copy()`\n",
            "  continuous_train[column + '_isna'] = isna.astype(int)\n",
            "<ipython-input-11-db2b5e10a346>:6: PerformanceWarning: DataFrame is highly fragmented.  This is usually the result of calling `frame.insert` many times, which has poor performance.  Consider joining all columns at once using pd.concat(axis=1) instead. To get a de-fragmented frame, use `newframe = frame.copy()`\n",
            "  continuous_train[column + '_isna'] = isna.astype(int)\n",
            "<ipython-input-11-db2b5e10a346>:6: PerformanceWarning: DataFrame is highly fragmented.  This is usually the result of calling `frame.insert` many times, which has poor performance.  Consider joining all columns at once using pd.concat(axis=1) instead. To get a de-fragmented frame, use `newframe = frame.copy()`\n",
            "  continuous_train[column + '_isna'] = isna.astype(int)\n",
            "<ipython-input-11-db2b5e10a346>:6: PerformanceWarning: DataFrame is highly fragmented.  This is usually the result of calling `frame.insert` many times, which has poor performance.  Consider joining all columns at once using pd.concat(axis=1) instead. To get a de-fragmented frame, use `newframe = frame.copy()`\n",
            "  continuous_train[column + '_isna'] = isna.astype(int)\n",
            "<ipython-input-11-db2b5e10a346>:6: PerformanceWarning: DataFrame is highly fragmented.  This is usually the result of calling `frame.insert` many times, which has poor performance.  Consider joining all columns at once using pd.concat(axis=1) instead. To get a de-fragmented frame, use `newframe = frame.copy()`\n",
            "  continuous_train[column + '_isna'] = isna.astype(int)\n",
            "<ipython-input-11-db2b5e10a346>:6: PerformanceWarning: DataFrame is highly fragmented.  This is usually the result of calling `frame.insert` many times, which has poor performance.  Consider joining all columns at once using pd.concat(axis=1) instead. To get a de-fragmented frame, use `newframe = frame.copy()`\n",
            "  continuous_train[column + '_isna'] = isna.astype(int)\n",
            "<ipython-input-11-db2b5e10a346>:6: PerformanceWarning: DataFrame is highly fragmented.  This is usually the result of calling `frame.insert` many times, which has poor performance.  Consider joining all columns at once using pd.concat(axis=1) instead. To get a de-fragmented frame, use `newframe = frame.copy()`\n",
            "  continuous_train[column + '_isna'] = isna.astype(int)\n",
            "<ipython-input-11-db2b5e10a346>:6: PerformanceWarning: DataFrame is highly fragmented.  This is usually the result of calling `frame.insert` many times, which has poor performance.  Consider joining all columns at once using pd.concat(axis=1) instead. To get a de-fragmented frame, use `newframe = frame.copy()`\n",
            "  continuous_train[column + '_isna'] = isna.astype(int)\n",
            "<ipython-input-11-db2b5e10a346>:6: PerformanceWarning: DataFrame is highly fragmented.  This is usually the result of calling `frame.insert` many times, which has poor performance.  Consider joining all columns at once using pd.concat(axis=1) instead. To get a de-fragmented frame, use `newframe = frame.copy()`\n",
            "  continuous_train[column + '_isna'] = isna.astype(int)\n",
            "<ipython-input-11-db2b5e10a346>:6: PerformanceWarning: DataFrame is highly fragmented.  This is usually the result of calling `frame.insert` many times, which has poor performance.  Consider joining all columns at once using pd.concat(axis=1) instead. To get a de-fragmented frame, use `newframe = frame.copy()`\n",
            "  continuous_train[column + '_isna'] = isna.astype(int)\n",
            "<ipython-input-11-db2b5e10a346>:6: PerformanceWarning: DataFrame is highly fragmented.  This is usually the result of calling `frame.insert` many times, which has poor performance.  Consider joining all columns at once using pd.concat(axis=1) instead. To get a de-fragmented frame, use `newframe = frame.copy()`\n",
            "  continuous_train[column + '_isna'] = isna.astype(int)\n",
            "<ipython-input-11-db2b5e10a346>:6: PerformanceWarning: DataFrame is highly fragmented.  This is usually the result of calling `frame.insert` many times, which has poor performance.  Consider joining all columns at once using pd.concat(axis=1) instead. To get a de-fragmented frame, use `newframe = frame.copy()`\n",
            "  continuous_train[column + '_isna'] = isna.astype(int)\n",
            "<ipython-input-11-db2b5e10a346>:6: PerformanceWarning: DataFrame is highly fragmented.  This is usually the result of calling `frame.insert` many times, which has poor performance.  Consider joining all columns at once using pd.concat(axis=1) instead. To get a de-fragmented frame, use `newframe = frame.copy()`\n",
            "  continuous_train[column + '_isna'] = isna.astype(int)\n",
            "<ipython-input-11-db2b5e10a346>:6: PerformanceWarning: DataFrame is highly fragmented.  This is usually the result of calling `frame.insert` many times, which has poor performance.  Consider joining all columns at once using pd.concat(axis=1) instead. To get a de-fragmented frame, use `newframe = frame.copy()`\n",
            "  continuous_train[column + '_isna'] = isna.astype(int)\n",
            "<ipython-input-11-db2b5e10a346>:6: PerformanceWarning: DataFrame is highly fragmented.  This is usually the result of calling `frame.insert` many times, which has poor performance.  Consider joining all columns at once using pd.concat(axis=1) instead. To get a de-fragmented frame, use `newframe = frame.copy()`\n",
            "  continuous_train[column + '_isna'] = isna.astype(int)\n",
            "<ipython-input-11-db2b5e10a346>:6: PerformanceWarning: DataFrame is highly fragmented.  This is usually the result of calling `frame.insert` many times, which has poor performance.  Consider joining all columns at once using pd.concat(axis=1) instead. To get a de-fragmented frame, use `newframe = frame.copy()`\n",
            "  continuous_train[column + '_isna'] = isna.astype(int)\n",
            "<ipython-input-11-db2b5e10a346>:6: PerformanceWarning: DataFrame is highly fragmented.  This is usually the result of calling `frame.insert` many times, which has poor performance.  Consider joining all columns at once using pd.concat(axis=1) instead. To get a de-fragmented frame, use `newframe = frame.copy()`\n",
            "  continuous_train[column + '_isna'] = isna.astype(int)\n",
            "<ipython-input-11-db2b5e10a346>:6: PerformanceWarning: DataFrame is highly fragmented.  This is usually the result of calling `frame.insert` many times, which has poor performance.  Consider joining all columns at once using pd.concat(axis=1) instead. To get a de-fragmented frame, use `newframe = frame.copy()`\n",
            "  continuous_train[column + '_isna'] = isna.astype(int)\n",
            "<ipython-input-11-db2b5e10a346>:6: PerformanceWarning: DataFrame is highly fragmented.  This is usually the result of calling `frame.insert` many times, which has poor performance.  Consider joining all columns at once using pd.concat(axis=1) instead. To get a de-fragmented frame, use `newframe = frame.copy()`\n",
            "  continuous_train[column + '_isna'] = isna.astype(int)\n",
            "<ipython-input-11-db2b5e10a346>:6: PerformanceWarning: DataFrame is highly fragmented.  This is usually the result of calling `frame.insert` many times, which has poor performance.  Consider joining all columns at once using pd.concat(axis=1) instead. To get a de-fragmented frame, use `newframe = frame.copy()`\n",
            "  continuous_train[column + '_isna'] = isna.astype(int)\n",
            "<ipython-input-11-db2b5e10a346>:6: PerformanceWarning: DataFrame is highly fragmented.  This is usually the result of calling `frame.insert` many times, which has poor performance.  Consider joining all columns at once using pd.concat(axis=1) instead. To get a de-fragmented frame, use `newframe = frame.copy()`\n",
            "  continuous_train[column + '_isna'] = isna.astype(int)\n",
            "<ipython-input-11-db2b5e10a346>:6: PerformanceWarning: DataFrame is highly fragmented.  This is usually the result of calling `frame.insert` many times, which has poor performance.  Consider joining all columns at once using pd.concat(axis=1) instead. To get a de-fragmented frame, use `newframe = frame.copy()`\n",
            "  continuous_train[column + '_isna'] = isna.astype(int)\n",
            "<ipython-input-11-db2b5e10a346>:6: PerformanceWarning: DataFrame is highly fragmented.  This is usually the result of calling `frame.insert` many times, which has poor performance.  Consider joining all columns at once using pd.concat(axis=1) instead. To get a de-fragmented frame, use `newframe = frame.copy()`\n",
            "  continuous_train[column + '_isna'] = isna.astype(int)\n"
          ]
        }
      ]
    },
    {
      "cell_type": "code",
      "source": [
        "# Reference: https://www.kaggle.com/code/abazdyrev/keras-nn-focal-loss-experiments\n",
        "from sklearn.preprocessing import LabelEncoder, OneHotEncoder\n",
        "from tqdm.autonotebook import tqdm\n",
        "\n",
        "def categorical_encode(df_train, categorical_features, n_values=50):\n",
        "    df_train = df_train[categorical_features].astype(str)\n",
        "    \n",
        "    categories = []\n",
        "    for column in tqdm(categorical_features):\n",
        "        categories.append(list(df_train[column].value_counts().iloc[: n_values - 1].index) + ['Other'])\n",
        "        values2use = categories[-1]\n",
        "        df_train[column] = df_train[column].apply(lambda x: x if x in values2use else 'Other')\n",
        "        \n",
        "    \n",
        "    ohe = OneHotEncoder(categories=categories)\n",
        "    ohe.fit(df_train)\n",
        "    df_train = pd.DataFrame(ohe.transform(df_train).toarray()).astype(np.float16)\n",
        "    return df_train"
      ],
      "metadata": {
        "id": "787UprCdjUNP"
      },
      "execution_count": 12,
      "outputs": []
    },
    {
      "cell_type": "code",
      "source": [
        "train_categorical = categorical_encode(X, categorical_features)"
      ],
      "metadata": {
        "id": "k07IPGk-jYG3",
        "colab": {
          "base_uri": "https://localhost:8080/",
          "height": 49,
          "referenced_widgets": [
            "215996e5d664443c84034bc6dd03334f",
            "eea9089c121446e182ac4ae59985baf5",
            "e770253bf8004dce833d16a766df4cbd",
            "fc5b0d42ce6342bc89808518fe48bbac",
            "bec840d231b949d2b082cb1e207ff495",
            "a3445e28dde64ae39a213cb517db3fe5",
            "b0d84a83957242a9a5259b63d4da9aec",
            "9c1faa3e005b497d95bf92eccd0a4c96",
            "daff8eae31b74d51880b82e3d544508c",
            "0e40779893a74c85b2549618aea5768a",
            "0198a690a5874d4f9aac2496e5a4ff8a"
          ]
        },
        "outputId": "8788d209-da4b-479c-eed8-eb30b67073f0"
      },
      "execution_count": 13,
      "outputs": [
        {
          "output_type": "display_data",
          "data": {
            "text/plain": [
              "  0%|          | 0/11 [00:00<?, ?it/s]"
            ],
            "application/vnd.jupyter.widget-view+json": {
              "version_major": 2,
              "version_minor": 0,
              "model_id": "215996e5d664443c84034bc6dd03334f"
            }
          },
          "metadata": {}
        }
      ]
    },
    {
      "cell_type": "code",
      "source": [
        "X = pd.concat([continuous_train, train_categorical], axis=1)\n",
        "del continuous_train, train_categorical"
      ],
      "metadata": {
        "id": "G3CpCvRgjaYg"
      },
      "execution_count": 14,
      "outputs": []
    },
    {
      "cell_type": "code",
      "source": [
        "from sklearn.model_selection import train_test_split\n",
        "\n",
        "X_dev, X_test, y_dev, y_test = train_test_split(X, y, test_size=0.2, stratify=y, random_state=42)\n",
        "X_tr, X_val, y_tr, y_val = train_test_split(X_dev, y_dev, test_size=0.25, stratify=y_dev, random_state=42)\n",
        "del X, y, X_dev, y_dev"
      ],
      "metadata": {
        "id": "ZJIr7Cz8kBOC"
      },
      "execution_count": 15,
      "outputs": []
    },
    {
      "cell_type": "code",
      "source": [
        "del train, train_transaction, train_identity"
      ],
      "metadata": {
        "id": "tN1PgQ_8kFFl"
      },
      "execution_count": 16,
      "outputs": []
    },
    {
      "cell_type": "code",
      "source": [
        "X_tr = X_tr.to_numpy()\n",
        "y_tr = y_tr.to_numpy()\n",
        "X_val = X_val.to_numpy()\n",
        "y_val = y_val.to_numpy()\n",
        "X_test = X_test.to_numpy()\n",
        "y_test = y_test.to_numpy()"
      ],
      "metadata": {
        "id": "BJaKT82Ng1Zl"
      },
      "execution_count": 17,
      "outputs": []
    },
    {
      "cell_type": "code",
      "source": [
        "from sklearn.metrics import classification_report, f1_score, accuracy_score\n",
        "import numpy as np\n",
        "import tensorflow as tf\n",
        "from sklearn.preprocessing import LabelEncoder\n",
        "\n",
        "loss_fn = tf.keras.losses.BinaryCrossentropy()\n",
        "optimizer = tf.keras.optimizers.Adam()\n",
        "\n",
        "model = tf.keras.Sequential([\n",
        "    tf.keras.layers.Dense(500, activation='relu', input_shape=(X_tr.shape[1],)),\n",
        "    tf.keras.layers.Dense(200, activation='relu'),\n",
        "    tf.keras.layers.Dense(1, activation='sigmoid')\n",
        "])\n",
        "auc_metric = tf.keras.metrics.AUC(curve=\"ROC\")\n",
        "\n",
        "# Compile the model\n",
        "model.compile(optimizer=optimizer, loss=loss_fn, metrics=['accuracy', auc_metric])\n",
        "\n",
        "# Train the model\n",
        "history = model.fit(X_tr, y_tr, epochs=10, batch_size=128, validation_data=(X_val, y_val))"
      ],
      "metadata": {
        "id": "jdQ8dxs-6U6I",
        "colab": {
          "base_uri": "https://localhost:8080/"
        },
        "outputId": "e5e01a5d-c42e-4541-ef8a-c20ecf229296"
      },
      "execution_count": 18,
      "outputs": [
        {
          "output_type": "stream",
          "name": "stdout",
          "text": [
            "Epoch 1/10\n",
            "2769/2769 [==============================] - 23s 6ms/step - loss: 0.0994 - accuracy: 0.9728 - auc: 0.8756 - val_loss: 0.0882 - val_accuracy: 0.9752 - val_auc: 0.9032\n",
            "Epoch 2/10\n",
            "2769/2769 [==============================] - 15s 5ms/step - loss: 0.0849 - accuracy: 0.9764 - auc: 0.9078 - val_loss: 0.0871 - val_accuracy: 0.9758 - val_auc: 0.9100\n",
            "Epoch 3/10\n",
            "2769/2769 [==============================] - 15s 5ms/step - loss: 0.0780 - accuracy: 0.9780 - auc: 0.9230 - val_loss: 0.0806 - val_accuracy: 0.9778 - val_auc: 0.9181\n",
            "Epoch 4/10\n",
            "2769/2769 [==============================] - 15s 6ms/step - loss: 0.0719 - accuracy: 0.9795 - auc: 0.9360 - val_loss: 0.0757 - val_accuracy: 0.9787 - val_auc: 0.9264\n",
            "Epoch 5/10\n",
            "2769/2769 [==============================] - 18s 6ms/step - loss: 0.0670 - accuracy: 0.9805 - auc: 0.9455 - val_loss: 0.0758 - val_accuracy: 0.9790 - val_auc: 0.9275\n",
            "Epoch 6/10\n",
            "2769/2769 [==============================] - 15s 6ms/step - loss: 0.0626 - accuracy: 0.9815 - auc: 0.9529 - val_loss: 0.0751 - val_accuracy: 0.9796 - val_auc: 0.9258\n",
            "Epoch 7/10\n",
            "2769/2769 [==============================] - 16s 6ms/step - loss: 0.0587 - accuracy: 0.9825 - auc: 0.9588 - val_loss: 0.0736 - val_accuracy: 0.9799 - val_auc: 0.9301\n",
            "Epoch 8/10\n",
            "2769/2769 [==============================] - 16s 6ms/step - loss: 0.0552 - accuracy: 0.9833 - auc: 0.9648 - val_loss: 0.0783 - val_accuracy: 0.9803 - val_auc: 0.9167\n",
            "Epoch 9/10\n",
            "2769/2769 [==============================] - 17s 6ms/step - loss: 0.0523 - accuracy: 0.9841 - auc: 0.9680 - val_loss: 0.0740 - val_accuracy: 0.9798 - val_auc: 0.9337\n",
            "Epoch 10/10\n",
            "2769/2769 [==============================] - 22s 8ms/step - loss: 0.0500 - accuracy: 0.9847 - auc: 0.9715 - val_loss: 0.0776 - val_accuracy: 0.9800 - val_auc: 0.9234\n"
          ]
        }
      ]
    },
    {
      "cell_type": "code",
      "source": [
        "from sklearn.metrics import roc_auc_score, precision_score, recall_score, average_precision_score\n",
        "\n",
        "# Predict on the test set\n",
        "pred = model.predict(X_test)\n",
        "\n",
        "# Calculate evaluation metrics\n",
        "\n",
        "precision = precision_score(y_test, pred > 0.5)\n",
        "\n",
        "recall = recall_score(y_test, pred > 0.5)\n",
        "\n",
        "avg_precision = average_precision_score(y_test, pred > 0.5)\n",
        "\n",
        "# Print evaluation metrics\n",
        "print(\"NN Classifier:\")\n",
        "print(f\"Precision: {precision:.4f}\")\n",
        "print(f\"Recall: {recall:.4f}\")\n",
        "print(f\"Average Precision-Recall: {avg_precision:.4f}\")\n"
      ],
      "metadata": {
        "id": "3Nsz6gtSlCRq",
        "colab": {
          "base_uri": "https://localhost:8080/"
        },
        "outputId": "42047460-38e9-4eea-a3c7-802c4bcce2ec"
      },
      "execution_count": 23,
      "outputs": [
        {
          "output_type": "stream",
          "name": "stdout",
          "text": [
            "3691/3691 [==============================] - 6s 2ms/step\n",
            "NN Classifier:\n",
            "Precision: 0.7901\n",
            "Recall: 0.5756\n",
            "Average Precision-Recall: 0.4696\n"
          ]
        }
      ]
    },
    {
      "cell_type": "code",
      "source": [
        "import matplotlib.pyplot as plt\n",
        "from sklearn.metrics import precision_recall_curve, auc\n",
        "\n",
        "\n",
        "precision, recall, _ = precision_recall_curve(y_test, pred)\n",
        "\n",
        "# Compute the AUC of the Precision-Recall curve\n",
        "pr_auc = auc(recall, precision)\n",
        "\n",
        "# Plot the Precision-Recall curve\n",
        "plt.figure(figsize=(10, 8))\n",
        "plt.plot(recall, precision, label=f'NN (AUC = {pr_auc:.4f})')\n",
        "plt.xlabel('Recall')\n",
        "plt.ylabel('Precision')\n",
        "plt.title('Precision-Recall curve')\n",
        "plt.legend(loc='best')\n",
        "plt.show()"
      ],
      "metadata": {
        "colab": {
          "base_uri": "https://localhost:8080/",
          "height": 718
        },
        "id": "uwGXWvBxAJ88",
        "outputId": "d38cc5ce-bd8e-4808-8743-41ff3c8ce508"
      },
      "execution_count": 24,
      "outputs": [
        {
          "output_type": "display_data",
          "data": {
            "text/plain": [
              "<Figure size 1000x800 with 1 Axes>"
            ],
            "image/png": "[encoded data removed]"
          },
          "metadata": {}
        }
      ]
    },
    {
      "cell_type": "code",
      "source": [
        "from sklearn.metrics import roc_curve, auc\n",
        "import matplotlib.pyplot as plt\n",
        "fpr, tpr, threshold = roc_curve(y_test, pred, pos_label=1)\n",
        "auc_nn = auc(fpr, tpr)\n",
        "\n",
        "plt.plot(fpr, tpr, label=f'NN (AUC={auc_nn:.2f})')\n",
        "\n",
        "plt.xlabel('False Positive Rate')\n",
        "plt.ylabel('True Positive Rate')\n",
        "plt.title('Receiver Operating Characteristic (ROC) Curve')\n",
        "plt.legend()\n",
        "plt.show()"
      ],
      "metadata": {
        "colab": {
          "base_uri": "https://localhost:8080/",
          "height": 472
        },
        "id": "N4IHId7tAWdZ",
        "outputId": "2af9e6f0-241f-4c5a-96ca-bfb16f57d77e"
      },
      "execution_count": 25,
      "outputs": [
        {
          "output_type": "display_data",
          "data": {
            "text/plain": [
              "<Figure size 640x480 with 1 Axes>"
            ],
            "image/png": "[encoded data removed]"
          },
          "metadata": {}
        }
      ]
    },
    {
      "cell_type": "code",
      "source": [
        "from sklearn.metrics import classification_report\n",
        "print(classification_report(y_test, pred >= 0.5))"
      ],
      "metadata": {
        "colab": {
          "base_uri": "https://localhost:8080/"
        },
        "id": "FXwkjEVpj1Ue",
        "outputId": "3db8b087-9f1f-4d6d-e7d2-b7557bf2776b"
      },
      "execution_count": 26,
      "outputs": [
        {
          "output_type": "stream",
          "name": "stdout",
          "text": [
            "              precision    recall  f1-score   support\n",
            "\n",
            "           0       0.98      0.99      0.99    113975\n",
            "           1       0.79      0.58      0.67      4133\n",
            "\n",
            "    accuracy                           0.98    118108\n",
            "   macro avg       0.89      0.79      0.83    118108\n",
            "weighted avg       0.98      0.98      0.98    118108\n",
            "\n"
          ]
        }
      ]
    },
    {
      "cell_type": "code",
      "source": [
        "import numpy as np\n",
        "\n",
        "np.save('fpr_nn.npy', fpr)\n",
        "np.save('tpr_nn.npy', tpr)"
      ],
      "metadata": {
        "id": "Fsur3F0KDMHp"
      },
      "execution_count": 27,
      "outputs": []
    },
    {
      "cell_type": "code",
      "source": [],
      "metadata": {
        "id": "1tWSL4bqlyij"
      },
      "execution_count": null,
      "outputs": []
    }
  ]
}