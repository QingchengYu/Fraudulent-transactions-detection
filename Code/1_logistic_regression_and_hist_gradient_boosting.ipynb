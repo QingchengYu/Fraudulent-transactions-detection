{
  "nbformat": 4,
  "nbformat_minor": 0,
  "metadata": {
    "colab": {
      "provenance": []
    },
    "kernelspec": {
      "name": "python3",
      "display_name": "Python 3"
    },
    "language_info": {
      "name": "python"
    }
  },
  "cells": [
    {
      "cell_type": "code",
      "source": [
        "!pip install category_encoders"
      ],
      "metadata": {
        "colab": {
          "base_uri": "https://localhost:8080/"
        },
        "id": "LYPdw7IXXGS_",
        "outputId": "492c18ed-db20-43c1-a634-3ccbb61a2d19"
      },
      "execution_count": null,
      "outputs": [
        {
          "output_type": "stream",
          "name": "stdout",
          "text": [
            "Looking in indexes: https://pypi.org/simple, https://us-python.pkg.dev/colab-wheels/public/simple/\n",
            "Requirement already satisfied: category_encoders in /usr/local/lib/python3.10/dist-packages (2.6.0)\n",
            "Requirement already satisfied: statsmodels>=0.9.0 in /usr/local/lib/python3.10/dist-packages (from category_encoders) (0.13.5)\n",
            "Requirement already satisfied: numpy>=1.14.0 in /usr/local/lib/python3.10/dist-packages (from category_encoders) (1.22.4)\n",
            "Requirement already satisfied: pandas>=1.0.5 in /usr/local/lib/python3.10/dist-packages (from category_encoders) (1.5.3)\n",
            "Requirement already satisfied: scipy>=1.0.0 in /usr/local/lib/python3.10/dist-packages (from category_encoders) (1.10.1)\n",
            "Requirement already satisfied: scikit-learn>=0.20.0 in /usr/local/lib/python3.10/dist-packages (from category_encoders) (1.2.2)\n",
            "Requirement already satisfied: patsy>=0.5.1 in /usr/local/lib/python3.10/dist-packages (from category_encoders) (0.5.3)\n",
            "Requirement already satisfied: pytz>=2020.1 in /usr/local/lib/python3.10/dist-packages (from pandas>=1.0.5->category_encoders) (2022.7.1)\n",
            "Requirement already satisfied: python-dateutil>=2.8.1 in /usr/local/lib/python3.10/dist-packages (from pandas>=1.0.5->category_encoders) (2.8.2)\n",
            "Requirement already satisfied: six in /usr/local/lib/python3.10/dist-packages (from patsy>=0.5.1->category_encoders) (1.16.0)\n",
            "Requirement already satisfied: joblib>=1.1.1 in /usr/local/lib/python3.10/dist-packages (from scikit-learn>=0.20.0->category_encoders) (1.2.0)\n",
            "Requirement already satisfied: threadpoolctl>=2.0.0 in /usr/local/lib/python3.10/dist-packages (from scikit-learn>=0.20.0->category_encoders) (3.1.0)\n",
            "Requirement already satisfied: packaging>=21.3 in /usr/local/lib/python3.10/dist-packages (from statsmodels>=0.9.0->category_encoders) (23.1)\n"
          ]
        }
      ]
    },
    {
      "cell_type": "markdown",
      "source": [
        "1.Import necessary modules and load the dataset of IEEE-CIS Fraud Detection"
      ],
      "metadata": {
        "id": "0WYaoppYCCMy"
      }
    },
    {
      "cell_type": "code",
      "execution_count": null,
      "metadata": {
        "id": "xRAvWmXe89PG"
      },
      "outputs": [],
      "source": [
        "import numpy as np                   # For numerical operations\n",
        "import pandas as pd                  # For data manipulation and analysis\n",
        "import seaborn as sns                # For data visualization\n",
        "import matplotlib.pyplot as plt      # For creating static, animated, and interactive visualizations\n",
        "from numpy.linalg import inv         # For matrix inversion\n",
        "%matplotlib inline                   # To display plots in the Jupyter Notebook\n",
        "\n",
        "# Import machine learning tools from Scikit-learn library\n",
        "from sklearn.model_selection import train_test_split    # For splitting data into training and testing sets\n",
        "from sklearn.preprocessing import StandardScaler, OneHotEncoder  # For data preprocessing\n",
        "import category_encoders as ce        # For encoding categorical features\n",
        "from sklearn.metrics import r2_score  # For evaluating regression models\n",
        "from sklearn.svm import LinearSVC, SVC  # For support vector machine classifiers\n",
        "import random  # For generating random numbers\n",
        "\n",
        "# Import evaluation metric from Scikit-learn library\n",
        "from sklearn.metrics import accuracy_score  # For evaluating classification models\n",
        "\n",
        "# Import utility for applying different preprocessing techniques to different subsets of the features\n",
        "from sklearn.compose import make_column_transformer\n",
        "\n",
        "# Import oversampling technique from imbalanced-learn library\n",
        "from imblearn.over_sampling import SMOTE  # For handling imbalanced datasets\n",
        "\n",
        "# Import PCA from Scikit-learn library for dimensionality reduction\n",
        "from sklearn.decomposition import PCA\n"
      ]
    },
    {
      "cell_type": "code",
      "source": [
        "! pip install -q kaggle"
      ],
      "metadata": {
        "id": "v_-MNm5M9CnU"
      },
      "execution_count": null,
      "outputs": []
    },
    {
      "cell_type": "code",
      "source": [
        "from google.colab import drive\n",
        "drive.mount('/content/drive')\n",
        "\n",
        "%cd /content/drive/MyDrive/IEEE-CIS/"
      ],
      "metadata": {
        "colab": {
          "base_uri": "https://localhost:8080/"
        },
        "id": "AZRrhxtQXnZH",
        "outputId": "247ae55c-1032-4d1f-f1a2-29a96afd108b"
      },
      "execution_count": null,
      "outputs": [
        {
          "output_type": "stream",
          "name": "stdout",
          "text": [
            "Mounted at /content/drive\n",
            "/content/drive/MyDrive/IEEE-CIS\n"
          ]
        }
      ]
    },
    {
      "cell_type": "code",
      "source": [
        "# load provided datasets\n",
        "train_transaction = pd.read_csv('train_transaction.csv')\n",
        "train_identity = pd.read_csv('train_identity.csv')\n",
        "\n",
        "# combine datasets as needed\n",
        "train = pd.merge(train_transaction, train_identity, on='TransactionID', how='left')"
      ],
      "metadata": {
        "id": "01VKexL99SFp"
      },
      "execution_count": null,
      "outputs": []
    },
    {
      "cell_type": "markdown",
      "source": [
        "2.Filters the columns in the 'train' DataFrame based on the percentage of missing values."
      ],
      "metadata": {
        "id": "xD0PIDmgC0c-"
      }
    },
    {
      "cell_type": "code",
      "source": [
        "# The dataset are sparse, only consider the features with less than 30% missing data\n",
        "\n",
        "valid_cols = pd.DataFrame(train.isnull().sum()/len(train)*100 < 30) # Identify columns with missing values percentage less than 30%\n",
        "\n",
        "valid_cols = valid_cols[valid_cols[0] == True] # Keep only columns with less than 30% missing values\n",
        "\n",
        "train = train[list(valid_cols.index)] # Update the 'train' DataFrame to include only valid columns"
      ],
      "metadata": {
        "id": "6nKshLu_9WGx"
      },
      "execution_count": null,
      "outputs": []
    },
    {
      "cell_type": "markdown",
      "source": [
        "3.Seperate categorical variables"
      ],
      "metadata": {
        "id": "oc6scfxlEVpG"
      }
    },
    {
      "cell_type": "code",
      "source": [
        "# Seperate categorical variables\n",
        "train = train.astype({'ProductCD': 'category',\n",
        "                   'card1': 'category','card2': 'category','card3': 'category','card4': 'category','card5': 'category','card6': 'category',\n",
        "                   'addr1': 'category','addr2': 'category',\n",
        "                   'P_emaildomain': 'category',\n",
        "                   'M6': 'category'})"
      ],
      "metadata": {
        "id": "26xvPDz6_MQH"
      },
      "execution_count": null,
      "outputs": []
    },
    {
      "cell_type": "markdown",
      "source": [
        "4.Fill missing values in numerical columns"
      ],
      "metadata": {
        "id": "ryzyU86lFXA2"
      }
    },
    {
      "cell_type": "code",
      "source": [
        "# Fill missing values in numerical columns\n",
        "num_cols = train.select_dtypes(include=np.number).columns.tolist() # Identify numerical columns in the 'train' DataFrame\n",
        "\n",
        "# Loop through the numerical columns\n",
        "for column in num_cols:\n",
        "    train[column].fillna(train[column].median(), inplace=True) # Fill missing values with the median value of the respective column"
      ],
      "metadata": {
        "id": "wcgs9kHDGJya"
      },
      "execution_count": null,
      "outputs": []
    },
    {
      "cell_type": "markdown",
      "source": [
        "5.Seperate X and Y"
      ],
      "metadata": {
        "id": "fCKJRPZjFj8Z"
      }
    },
    {
      "cell_type": "code",
      "source": [
        "# Prepare the feature matrix (train_X) and target vector (train_Y)\n",
        "train_X = train.drop(columns=['isFraud']) \n",
        "train_Y = train['isFraud']\n",
        "\n",
        "# Split the data into development and test sets using stratified sampling\n",
        "X_dev, X_test, y_dev, y_test = train_test_split(train_X, train_Y, test_size=0.2, stratify=train_Y, random_state=42)"
      ],
      "metadata": {
        "id": "2ogCs0NzGXRT"
      },
      "execution_count": null,
      "outputs": []
    },
    {
      "cell_type": "markdown",
      "source": [
        "6.Remoove highly correlated numerical features from the development and test DataFrames "
      ],
      "metadata": {
        "id": "2H8QZaV8F8A6"
      }
    },
    {
      "cell_type": "code",
      "source": [
        "# Compute the absolute correlation matrix for numerical features in X_dev\n",
        "corr_matrix = X_dev.corr().abs()\n",
        "\n",
        "# Create an upper triangular matrix from the correlation matrix\n",
        "upper_tri = corr_matrix.where(np.triu(np.ones(corr_matrix.shape), k=1).astype('bool'))\n",
        "\n",
        "# Identify columns with a correlation value of 0.9 or higher\n",
        "to_drop = [column for column in upper_tri.columns if any(upper_tri[column] >= 0.9)]\n",
        "\n",
        "# Drop the highly correlated columns from both X_dev and X_test DataFrames\n",
        "X_dev = X_dev.drop(to_drop, axis=1)\n",
        "X_test = X_test.drop(to_drop, axis=1)"
      ],
      "metadata": {
        "colab": {
          "base_uri": "https://localhost:8080/"
        },
        "id": "OmvW8F91BT5-",
        "outputId": "f0cfc4fb-aaf1-45b3-8bae-ea3d1abf112d"
      },
      "execution_count": null,
      "outputs": [
        {
          "output_type": "stream",
          "name": "stderr",
          "text": [
            "<ipython-input-14-f57138035e0b>:2: FutureWarning: The default value of numeric_only in DataFrame.corr is deprecated. In a future version, it will default to False. Select only valid columns or specify the value of numeric_only to silence this warning.\n",
            "  corr_matrix = X_dev.corr().abs()\n"
          ]
        }
      ]
    },
    {
      "cell_type": "markdown",
      "source": [
        "7.preprocess the development and test DataFrames"
      ],
      "metadata": {
        "id": "cvXLYG_BHFym"
      }
    },
    {
      "cell_type": "code",
      "source": [
        "# Identify different types of columns for preprocessing\n",
        "num_cols = X_dev.select_dtypes(include=np.number).columns.drop(['TransactionID']).tolist()\n",
        "te_cols = ['TransactionID','card1', 'card2', 'addr1', 'card5', 'card3', 'addr2', 'P_emaildomain']\n",
        "cat_cols = X_dev.select_dtypes(exclude=np.number).columns.drop(['card1', 'card2', 'addr1', 'card5', 'card3', 'addr2', 'P_emaildomain']).tolist()\n",
        "\n",
        "# Define the features for each preprocessing method\n",
        "ohe_features = cat_cols\n",
        "num_features = num_cols\n",
        "te_features = te_cols\n",
        "\n",
        "# Create a column transformer to preprocess different types of columns\n",
        "preprocess = make_column_transformer((StandardScaler(), num_features), (OneHotEncoder(handle_unknown='ignore'), ohe_features), (ce.TargetEncoder(return_df=True), te_features))\n",
        "\n",
        "# Fit the column transformer to the development data\n",
        "preprocess.fit(X_dev, y_dev)\n",
        "\n",
        "# Transform the development and test DataFrames using the fitted column transformer\n",
        "X_dev = preprocess.transform(X_dev)\n",
        "X_test = preprocess.transform(X_test)"
      ],
      "metadata": {
        "id": "GJwAdqfO-X1j"
      },
      "execution_count": null,
      "outputs": []
    },
    {
      "cell_type": "code",
      "source": [
        "# Instantiate a SMOTE object for handling class imbalance\n",
        "smote = SMOTE(random_state=42)\n",
        "\n",
        "# Fit and apply SMOTE on the development data to balance classes\n",
        "X_dev, y_dev = smote.fit_resample(X_dev, y_dev)"
      ],
      "metadata": {
        "id": "rBP5_nIL9o6s"
      },
      "execution_count": null,
      "outputs": []
    },
    {
      "cell_type": "markdown",
      "source": [
        "8.Model tracking on Logistic Regreesion and Hist Gradient Boosting"
      ],
      "metadata": {
        "id": "-0azTm-kHpKw"
      }
    },
    {
      "cell_type": "code",
      "source": [
        "import optuna\n",
        "from sklearn.experimental import enable_hist_gradient_boosting\n",
        "from sklearn.ensemble import HistGradientBoostingClassifier\n",
        "from sklearn.metrics import roc_auc_score, precision_score, recall_score, average_precision_score\n",
        "from sklearn.model_selection import cross_val_score, StratifiedKFold\n",
        "from sklearn.linear_model import LogisticRegression\n",
        "\n",
        "# Define objective functions for logistic regression and histogram-based gradient boosting optimization\n",
        "\n",
        "# Objective function for logistic regression\n",
        "def logistic_objective(trial):\n",
        "\n",
        "    # Suggest hyperparameters for the logistic regression model\n",
        "    C = trial.suggest_float(\"C\", 1e-5, 1e1, log=True)\n",
        "    class_weight = trial.suggest_categorical(\"class_weight\", [None, \"balanced\"])\n",
        "    logistic = LogisticRegression(solver='lbfgs', C=C, class_weight=class_weight, max_iter=1000, random_state=42, n_jobs=-1)\n",
        "\n",
        "    # Train and evaluate the logistic regression model using stratified K-fold cross-validation\n",
        "    cv = StratifiedKFold(n_splits=5, shuffle=True, random_state=42)\n",
        "    auc_scores = cross_val_score(logistic, X_dev, y_dev, cv=cv, scoring='roc_auc', n_jobs=-1)\n",
        "    \n",
        "    return np.mean(auc_scores)\n",
        "\n",
        "# Objective function for histogram-based gradient boosting\n",
        "def hist_gb_objective(trial):\n",
        "\n",
        "    # Suggest hyperparameters for the histogram-based gradient boosting model\n",
        "    learning_rate = trial.suggest_float(\"learning_rate\", 1e-5, 1, log=True)\n",
        "    max_iter = trial.suggest_int(\"max_iter\", 50, 200)\n",
        "    max_leaf_nodes = trial.suggest_int(\"max_leaf_nodes\", 15, 127)\n",
        "    max_depth = trial.suggest_int(\"max_depth\", 2, 10)\n",
        "    min_samples_leaf = trial.suggest_int(\"min_samples_leaf\", 1, 20)\n",
        "    l2_regularization = trial.suggest_float(\"l2_regularization\", 0, 10)\n",
        "\n",
        "    # Train and evaluate the histogram-based gradient boosting model using stratified K-fold cross-validation\n",
        "    hist_gb = HistGradientBoostingClassifier(learning_rate=learning_rate, max_iter=max_iter, max_leaf_nodes=max_leaf_nodes, max_depth=max_depth, min_samples_leaf=min_samples_leaf, l2_regularization=l2_regularization, random_state=42)\n",
        "    \n",
        "    cv = StratifiedKFold(n_splits=5, shuffle=True, random_state=42)\n",
        "    auc_scores = cross_val_score(hist_gb, X_dev, y_dev, cv=cv, scoring='roc_auc', n_jobs=-1)\n",
        "\n",
        "    return np.mean(auc_scores)\n",
        "\n",
        "# Optimize hyperparameters for logistic regression and histogram gradient boosting models\n",
        "logistic_study = optuna.create_study(direction='maximize')\n",
        "logistic_study.optimize(logistic_objective, n_trials=10)  # Increase the number of trials to 10\n",
        "hist_gb_study = optuna.create_study(direction='maximize')\n",
        "hist_gb_study.optimize(hist_gb_objective, n_trials=10)  # Increase the number of trials to 10\n",
        "\n",
        "# Get the best hyperparameters for both models\n",
        "best_logistic_params = logistic_study.best_params\n",
        "best_hist_gb_params = hist_gb_study.best_params\n",
        "\n",
        "# Train the models with the best hyperparameters\n",
        "logistic_clf = LogisticRegression(**best_logistic_params, solver='lbfgs', max_iter=1000, random_state=42, n_jobs=-1)\n",
        "hist_gb_clf = HistGradientBoostingClassifier(**best_hist_gb_params, random_state=42)\n",
        "\n",
        "# Fit the models on the development data\n",
        "logistic_clf.fit(X_dev, y_dev)\n",
        "hist_gb_clf.fit(X_dev, y_dev)\n",
        "\n",
        "# Make predictions on the test data\n",
        "logistic_pred = logistic_clf.predict(X_test)\n",
        "hist_gb_pred = hist_gb_clf.predict(X_test)\n",
        "\n",
        "# Calculate various performance metrics for the logistic regression and histogram-based gradient boosting models\n",
        "logistic_auc = roc_auc_score(y_test, logistic_pred)\n",
        "hist_gb_auc = roc_auc_score(y_test, hist_gb_pred)\n",
        "logistic_precision = precision_score(y_test, logistic_pred)\n",
        "hist_gb_precision = precision_score(y_test, hist_gb_pred)\n",
        "\n",
        "\n",
        "logistic_recall = recall_score(y_test, logistic_pred)\n",
        "hist_gb_recall = recall_score(y_test, hist_gb_pred)\n",
        "\n",
        "logistic_avg_precision = average_precision_score(y_test, logistic_pred)\n",
        "hist_gb_avg_precision = average_precision_score(y_test, hist_gb_pred)\n",
        "\n",
        "# Print evaluation metrics\n",
        "print(\"logistic Classifier:\")\n",
        "print(f\"AUC: {logistic_auc:.4f}\")\n",
        "print(f\"Precision: {logistic_precision:.4f}\")\n",
        "print(f\"Recall: {logistic_recall:.4f}\")\n",
        "print(f\"Average Precision-Recall: {logistic_avg_precision:.4f}\")\n",
        "\n",
        "print(\"\\nHist Gradient Boosting Classifier:\")\n",
        "print(f\"AUC: {hist_gb_auc:.4f}\")\n",
        "print(f\"Precision: {hist_gb_precision:.4f}\")\n",
        "print(f\"Recall: {hist_gb_recall:.4f}\")\n",
        "print(f\"Average Precision-Recall: {hist_gb_avg_precision:.4f}\")"
      ],
      "metadata": {
        "colab": {
          "base_uri": "https://localhost:8080/"
        },
        "id": "HBQpNb9kHCsl",
        "outputId": "a7876ef1-e2e8-4dc9-b4a8-32c2aa17779e"
      },
      "execution_count": null,
      "outputs": [
        {
          "output_type": "stream",
          "name": "stderr",
          "text": [
            "/usr/local/lib/python3.10/dist-packages/sklearn/experimental/enable_hist_gradient_boosting.py:16: UserWarning: Since version 1.0, it is not needed to import enable_hist_gradient_boosting anymore. HistGradientBoostingClassifier and HistGradientBoostingRegressor are now stable and can be normally imported from sklearn.ensemble.\n",
            "  warnings.warn(\n",
            "\u001b[32m[I 2023-04-29 23:47:54,061]\u001b[0m A new study created in memory with name: no-name-b113fddc-4afe-4a17-8c8c-8b4b28da2b25\u001b[0m\n",
            "\u001b[32m[I 2023-04-29 23:48:11,924]\u001b[0m Trial 0 finished with value: 0.5225767475792028 and parameters: {'C': 0.0001119690581683181, 'class_weight': None}. Best is trial 0 with value: 0.5225767475792028.\u001b[0m\n",
            "\u001b[32m[I 2023-04-29 23:48:28,030]\u001b[0m Trial 1 finished with value: 0.5225767475792028 and parameters: {'C': 0.01168689954113468, 'class_weight': None}. Best is trial 0 with value: 0.5225767475792028.\u001b[0m\n",
            "\u001b[32m[I 2023-04-29 23:48:41,452]\u001b[0m Trial 2 finished with value: 0.5225767475792028 and parameters: {'C': 0.009410901260417869, 'class_weight': None}. Best is trial 0 with value: 0.5225767475792028.\u001b[0m\n",
            "\u001b[32m[I 2023-04-29 23:48:50,915]\u001b[0m Trial 3 finished with value: 0.5225767475792028 and parameters: {'C': 2.293583619194854, 'class_weight': 'balanced'}. Best is trial 0 with value: 0.5225767475792028.\u001b[0m\n",
            "\u001b[32m[I 2023-04-29 23:49:00,134]\u001b[0m Trial 4 finished with value: 0.5225767475792028 and parameters: {'C': 0.06387767691435757, 'class_weight': None}. Best is trial 0 with value: 0.5225767475792028.\u001b[0m\n",
            "\u001b[32m[I 2023-04-29 23:49:11,997]\u001b[0m Trial 5 finished with value: 0.5225767475792028 and parameters: {'C': 0.0023765210140945974, 'class_weight': 'balanced'}. Best is trial 0 with value: 0.5225767475792028.\u001b[0m\n",
            "\u001b[32m[I 2023-04-29 23:49:20,709]\u001b[0m Trial 6 finished with value: 0.5225767475792028 and parameters: {'C': 0.00017300125055219037, 'class_weight': None}. Best is trial 0 with value: 0.5225767475792028.\u001b[0m\n",
            "\u001b[32m[I 2023-04-29 23:49:30,315]\u001b[0m Trial 7 finished with value: 0.5225767475792028 and parameters: {'C': 0.0046802489324388845, 'class_weight': None}. Best is trial 0 with value: 0.5225767475792028.\u001b[0m\n",
            "\u001b[32m[I 2023-04-29 23:49:39,204]\u001b[0m Trial 8 finished with value: 0.5225767475792028 and parameters: {'C': 1.2551668951294471e-05, 'class_weight': None}. Best is trial 0 with value: 0.5225767475792028.\u001b[0m\n",
            "\u001b[32m[I 2023-04-29 23:49:48,052]\u001b[0m Trial 9 finished with value: 0.5225767475792028 and parameters: {'C': 0.00036775350318385186, 'class_weight': None}. Best is trial 0 with value: 0.5225767475792028.\u001b[0m\n",
            "\u001b[32m[I 2023-04-29 23:49:48,062]\u001b[0m A new study created in memory with name: no-name-5175f5d8-76a1-44c8-baff-a0663f850cd1\u001b[0m\n",
            "\u001b[32m[I 2023-04-29 23:57:33,071]\u001b[0m Trial 0 finished with value: 0.9477895327912128 and parameters: {'learning_rate': 2.141611818453745e-05, 'max_iter': 131, 'max_leaf_nodes': 18, 'max_depth': 9, 'min_samples_leaf': 20, 'l2_regularization': 5.258430256109485}. Best is trial 0 with value: 0.9477895327912128.\u001b[0m\n",
            "\u001b[32m[I 2023-04-30 00:07:42,774]\u001b[0m Trial 1 finished with value: 0.9773638685973067 and parameters: {'learning_rate': 2.6600898282114876e-05, 'max_iter': 121, 'max_leaf_nodes': 72, 'max_depth': 8, 'min_samples_leaf': 12, 'l2_regularization': 1.1478099825337873}. Best is trial 1 with value: 0.9773638685973067.\u001b[0m\n",
            "\u001b[32m[I 2023-04-30 00:14:33,838]\u001b[0m Trial 2 finished with value: 0.9707570298670027 and parameters: {'learning_rate': 0.00035897780473612064, 'max_iter': 99, 'max_leaf_nodes': 63, 'max_depth': 6, 'min_samples_leaf': 8, 'l2_regularization': 0.002257745928195831}. Best is trial 1 with value: 0.9773638685973067.\u001b[0m\n",
            "\u001b[32m[I 2023-04-30 00:18:24,966]\u001b[0m Trial 3 finished with value: 0.9077162232324449 and parameters: {'learning_rate': 3.7570633075960206e-05, 'max_iter': 79, 'max_leaf_nodes': 94, 'max_depth': 3, 'min_samples_leaf': 8, 'l2_regularization': 9.67154229209343}. Best is trial 1 with value: 0.9773638685973067.\u001b[0m\n",
            "\u001b[32m[I 2023-04-30 00:24:29,898]\u001b[0m Trial 4 finished with value: 0.9942421674250381 and parameters: {'learning_rate': 0.034754090077209567, 'max_iter': 70, 'max_leaf_nodes': 67, 'max_depth': 8, 'min_samples_leaf': 6, 'l2_regularization': 4.991648192406757}. Best is trial 4 with value: 0.9942421674250381.\u001b[0m\n",
            "\u001b[32m[I 2023-04-30 00:31:22,328]\u001b[0m Trial 5 finished with value: 0.9097186882104047 and parameters: {'learning_rate': 0.0003957842744824498, 'max_iter': 159, 'max_leaf_nodes': 17, 'max_depth': 3, 'min_samples_leaf': 15, 'l2_regularization': 9.721094268875172}. Best is trial 4 with value: 0.9942421674250381.\u001b[0m\n",
            "\u001b[32m[I 2023-04-30 00:41:43,447]\u001b[0m Trial 6 finished with value: 0.9955829663923884 and parameters: {'learning_rate': 0.027623889879608846, 'max_iter': 138, 'max_leaf_nodes': 50, 'max_depth': 8, 'min_samples_leaf': 12, 'l2_regularization': 4.258845028057997}. Best is trial 6 with value: 0.9955829663923884.\u001b[0m\n",
            "\u001b[32m[I 2023-04-30 00:49:14,325]\u001b[0m Trial 7 finished with value: 0.9975566517083723 and parameters: {'learning_rate': 0.16884155865294526, 'max_iter': 166, 'max_leaf_nodes': 39, 'max_depth': 5, 'min_samples_leaf': 13, 'l2_regularization': 9.24448285366364}. Best is trial 7 with value: 0.9975566517083723.\u001b[0m\n",
            "\u001b[32m[I 2023-04-30 00:56:02,261]\u001b[0m Trial 8 finished with value: 0.9393956704173363 and parameters: {'learning_rate': 1.80127370180213e-05, 'max_iter': 137, 'max_leaf_nodes': 17, 'max_depth': 4, 'min_samples_leaf': 15, 'l2_regularization': 4.862997673030503}. Best is trial 7 with value: 0.9975566517083723.\u001b[0m\n",
            "\u001b[32m[I 2023-04-30 01:02:44,212]\u001b[0m Trial 9 finished with value: 0.9097186882104047 and parameters: {'learning_rate': 0.0004150992292418609, 'max_iter': 155, 'max_leaf_nodes': 63, 'max_depth': 3, 'min_samples_leaf': 11, 'l2_regularization': 7.131721935637719}. Best is trial 7 with value: 0.9975566517083723.\u001b[0m\n"
          ]
        },
        {
          "output_type": "stream",
          "name": "stdout",
          "text": [
            "logistic Classifier:\n",
            "AUC: 0.5000\n",
            "Precision: 0.0350\n",
            "Recall: 1.0000\n",
            "Average Precision-Recall: 0.0350\n",
            "\n",
            "Hist Gradient Boosting Classifier:\n",
            "AUC: 0.7306\n",
            "Precision: 0.8016\n",
            "Recall: 0.4653\n",
            "Average Precision-Recall: 0.3917\n"
          ]
        }
      ]
    },
    {
      "cell_type": "markdown",
      "source": [
        "9.Print the best Hyperparameters for both models"
      ],
      "metadata": {
        "id": "PAHug4IoKgfo"
      }
    },
    {
      "cell_type": "code",
      "source": [
        "print(\"Best Hyperparameters: \", logistic_study.best_params)\n",
        "print(\"Best Hyperparameters: \", hist_gb_study.best_params)"
      ],
      "metadata": {
        "id": "XVbvE1pdhLqK",
        "colab": {
          "base_uri": "https://localhost:8080/"
        },
        "outputId": "0e1ebc34-b1a2-4d5b-befe-a8cb29b9b69e"
      },
      "execution_count": null,
      "outputs": [
        {
          "output_type": "stream",
          "name": "stdout",
          "text": [
            "Best Hyperparameters:  {'C': 0.0001119690581683181, 'class_weight': None}\n",
            "Best Hyperparameters:  {'learning_rate': 0.16884155865294526, 'max_iter': 166, 'max_leaf_nodes': 39, 'max_depth': 5, 'min_samples_leaf': 13, 'l2_regularization': 9.24448285366364}\n"
          ]
        }
      ]
    },
    {
      "cell_type": "markdown",
      "source": [
        "10.Plot the Precision-Recall curve"
      ],
      "metadata": {
        "id": "iD4mdzbuK3gR"
      }
    },
    {
      "cell_type": "code",
      "source": [
        "import matplotlib.pyplot as plt\n",
        "from sklearn.metrics import precision_recall_curve, auc\n",
        "\n",
        "# Compute Precision-Recall curve\n",
        "logistic_prob = logistic_clf.predict_proba(X_test)[:, 1]\n",
        "hist_gb_prob = hist_gb_clf.predict_proba(X_test)[:, 1]\n",
        "\n",
        "logistic_precision, logistic_recall, _ = precision_recall_curve(y_test, logistic_prob)\n",
        "hist_gb_precision, hist_gb_recall, _ = precision_recall_curve(y_test, hist_gb_prob)\n",
        "\n",
        "# Compute the AUC of the Precision-Recall curve\n",
        "logistic_pr_auc = auc(logistic_recall, logistic_precision)\n",
        "hist_gb_pr_auc = auc(hist_gb_recall, hist_gb_precision)\n",
        "\n",
        "# Plot the Precision-Recall curve\n",
        "plt.figure(figsize=(10, 8))\n",
        "plt.plot(logistic_recall, logistic_precision, label=f'logistic Regression (AUC = {logistic_pr_auc:.4f})')\n",
        "plt.plot(hist_gb_recall, hist_gb_precision, label=f'Hist Gradient Boosting (AUC = {hist_gb_pr_auc:.4f})')\n",
        "plt.xlabel('Recall')\n",
        "plt.ylabel('Precision')\n",
        "plt.title('Precision-Recall curve')\n",
        "plt.legend(loc='best')\n",
        "plt.show()"
      ],
      "metadata": {
        "colab": {
          "base_uri": "https://localhost:8080/",
          "height": 718
        },
        "id": "HfgEaaI2HRKG",
        "outputId": "a5739578-3f25-40fe-c761-2b32093c7b21"
      },
      "execution_count": null,
      "outputs": [
        {
          "output_type": "display_data",
          "data": {
            "text/plain": [
              "<Figure size 1000x800 with 1 Axes>"
            ],
            "image/png": "[encoded data removed]"
          },
          "metadata": {}
        }
      ]
    },
    {
      "cell_type": "markdown",
      "source": [
        "11.Plot the ROC curves for both models"
      ],
      "metadata": {
        "id": "W39UuhUFLGvp"
      }
    },
    {
      "cell_type": "code",
      "source": [
        "from sklearn.metrics import roc_curve, auc\n",
        "import matplotlib.pyplot as plt\n",
        "\n",
        "# Calculate the predicted probabilities for the logistic regression and histogram-based gradient boosting classifiers\n",
        "y_pred_proba_logistic = logistic_clf.predict_proba(X_test)[:, 1]\n",
        "y_pred_proba_hist = hist_gb_clf.predict_proba(X_test)[:, 1]\n",
        "\n",
        "# Compute the false positive rate (FPR), true positive rate (TPR), and AUC for both models\n",
        "fpr_logistic, tpr_logistic, thresholds_logistic = roc_curve(y_test, y_pred_proba_logistic, pos_label=1)\n",
        "fpr_hist, tpr_hist, thresholds_hist = roc_curve(y_test, y_pred_proba_hist, pos_label=1)\n",
        "auc_logistic = auc(fpr_logistic, tpr_logistic)\n",
        "auc_hist = auc(fpr_hist, tpr_hist)\n",
        "\n",
        "# Plot the ROC curves for both models\n",
        "plt.plot(fpr_logistic, tpr_logistic, label=f'logistic Regression (AUC={auc_logistic:.2f})')\n",
        "plt.plot(fpr_hist, tpr_hist, label=f'Hist Gradient Boosting Classifier (AUC={auc_hist:.2f})')\n",
        "\n",
        "# Set the plot labels and title\n",
        "plt.xlabel('False Positive Rate')\n",
        "plt.ylabel('True Positive Rate')\n",
        "plt.title('Receiver Operating Characteristic (ROC) Curve')\n",
        "\n",
        "# Add a legend and display the plot\n",
        "plt.legend()\n",
        "plt.show()"
      ],
      "metadata": {
        "colab": {
          "base_uri": "https://localhost:8080/",
          "height": 472
        },
        "id": "JCeUPx9TcoGk",
        "outputId": "25321f6f-82d2-424a-a56b-c2a6ada7f4f0"
      },
      "execution_count": null,
      "outputs": [
        {
          "output_type": "display_data",
          "data": {
            "text/plain": [
              "<Figure size 640x480 with 1 Axes>"
            ],
            "image/png": "[encoded data removed]"
          },
          "metadata": {}
        }
      ]
    },
    {
      "cell_type": "markdown",
      "source": [
        "12.Print the classification reports for both logistic regression and histogram-based gradient boosting classifiers"
      ],
      "metadata": {
        "id": "RkM61nxQL2Kp"
      }
    },
    {
      "cell_type": "code",
      "source": [
        "from sklearn.metrics import classification_report\n",
        "print(classification_report(y_test, logistic_pred))\n",
        "print(classification_report(y_test, hist_gb_pred))"
      ],
      "metadata": {
        "colab": {
          "base_uri": "https://localhost:8080/"
        },
        "id": "onm9AUKEeaPP",
        "outputId": "4cbac6a4-9071-4df4-eb7b-b9997a3a97ac"
      },
      "execution_count": null,
      "outputs": [
        {
          "output_type": "stream",
          "name": "stderr",
          "text": [
            "/usr/local/lib/python3.10/dist-packages/sklearn/metrics/_classification.py:1344: UndefinedMetricWarning: Precision and F-score are ill-defined and being set to 0.0 in labels with no predicted samples. Use `zero_division` parameter to control this behavior.\n",
            "  _warn_prf(average, modifier, msg_start, len(result))\n",
            "/usr/local/lib/python3.10/dist-packages/sklearn/metrics/_classification.py:1344: UndefinedMetricWarning: Precision and F-score are ill-defined and being set to 0.0 in labels with no predicted samples. Use `zero_division` parameter to control this behavior.\n",
            "  _warn_prf(average, modifier, msg_start, len(result))\n",
            "/usr/local/lib/python3.10/dist-packages/sklearn/metrics/_classification.py:1344: UndefinedMetricWarning: Precision and F-score are ill-defined and being set to 0.0 in labels with no predicted samples. Use `zero_division` parameter to control this behavior.\n",
            "  _warn_prf(average, modifier, msg_start, len(result))\n"
          ]
        },
        {
          "output_type": "stream",
          "name": "stdout",
          "text": [
            "              precision    recall  f1-score   support\n",
            "\n",
            "           0       0.00      0.00      0.00    113975\n",
            "           1       0.03      1.00      0.07      4133\n",
            "\n",
            "    accuracy                           0.03    118108\n",
            "   macro avg       0.02      0.50      0.03    118108\n",
            "weighted avg       0.00      0.03      0.00    118108\n",
            "\n",
            "              precision    recall  f1-score   support\n",
            "\n",
            "           0       0.98      1.00      0.99    113975\n",
            "           1       0.80      0.47      0.59      4133\n",
            "\n",
            "    accuracy                           0.98    118108\n",
            "   macro avg       0.89      0.73      0.79    118108\n",
            "weighted avg       0.97      0.98      0.97    118108\n",
            "\n"
          ]
        }
      ]
    },
    {
      "cell_type": "code",
      "source": [
        "import numpy as np\n",
        "\n",
        "np.save('fpr_logistic.npy', fpr_logistic)\n",
        "np.save('tpr_logistic.npy', tpr_logistic)\n",
        "np.save('fpr_hist.npy', fpr_hist)\n",
        "np.save('tpr_hist.npy', tpr_hist)"
      ],
      "metadata": {
        "id": "p7lCzRDjs268"
      },
      "execution_count": null,
      "outputs": []
    }
  ]
}