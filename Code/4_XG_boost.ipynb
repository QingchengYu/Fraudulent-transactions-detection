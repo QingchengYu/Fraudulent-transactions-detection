{
  "nbformat": 4,
  "nbformat_minor": 0,
  "metadata": {
    "colab": {
      "provenance": []
    },
    "kernelspec": {
      "name": "python3",
      "display_name": "Python 3"
    },
    "language_info": {
      "name": "python"
    },
    "accelerator": "GPU",
    "gpuClass": "standard"
  },
  "cells": [
    {
      "cell_type": "code",
      "source": [
        "!pip install category_encoders"
      ],
      "metadata": {
        "colab": {
          "base_uri": "https://localhost:8080/"
        },
        "id": "LYPdw7IXXGS_",
        "outputId": "72c17602-6a7b-4e6c-ddb1-e6402ff76223"
      },
      "execution_count": 1,
      "outputs": [
        {
          "output_type": "stream",
          "name": "stdout",
          "text": [
            "Looking in indexes: https://pypi.org/simple, https://us-python.pkg.dev/colab-wheels/public/simple/\n",
            "Collecting category_encoders\n",
            "  Downloading category_encoders-2.6.0-py2.py3-none-any.whl (81 kB)\n",
            "\u001b[2K     \u001b[90m━━━━━━━━━━━━━━━━━━━━━━━━━━━━━━━━━━━━━━━\u001b[0m \u001b[32m81.2/81.2 kB\u001b[0m \u001b[31m930.5 kB/s\u001b[0m eta \u001b[36m0:00:00\u001b[0m\n",
            "\u001b[?25hRequirement already satisfied: patsy>=0.5.1 in /usr/local/lib/python3.10/dist-packages (from category_encoders) (0.5.3)\n",
            "Requirement already satisfied: pandas>=1.0.5 in /usr/local/lib/python3.10/dist-packages (from category_encoders) (1.5.3)\n",
            "Requirement already satisfied: numpy>=1.14.0 in /usr/local/lib/python3.10/dist-packages (from category_encoders) (1.22.4)\n",
            "Requirement already satisfied: scipy>=1.0.0 in /usr/local/lib/python3.10/dist-packages (from category_encoders) (1.10.1)\n",
            "Requirement already satisfied: statsmodels>=0.9.0 in /usr/local/lib/python3.10/dist-packages (from category_encoders) (0.13.5)\n",
            "Requirement already satisfied: scikit-learn>=0.20.0 in /usr/local/lib/python3.10/dist-packages (from category_encoders) (1.2.2)\n",
            "Requirement already satisfied: pytz>=2020.1 in /usr/local/lib/python3.10/dist-packages (from pandas>=1.0.5->category_encoders) (2022.7.1)\n",
            "Requirement already satisfied: python-dateutil>=2.8.1 in /usr/local/lib/python3.10/dist-packages (from pandas>=1.0.5->category_encoders) (2.8.2)\n",
            "Requirement already satisfied: six in /usr/local/lib/python3.10/dist-packages (from patsy>=0.5.1->category_encoders) (1.16.0)\n",
            "Requirement already satisfied: threadpoolctl>=2.0.0 in /usr/local/lib/python3.10/dist-packages (from scikit-learn>=0.20.0->category_encoders) (3.1.0)\n",
            "Requirement already satisfied: joblib>=1.1.1 in /usr/local/lib/python3.10/dist-packages (from scikit-learn>=0.20.0->category_encoders) (1.2.0)\n",
            "Requirement already satisfied: packaging>=21.3 in /usr/local/lib/python3.10/dist-packages (from statsmodels>=0.9.0->category_encoders) (23.1)\n",
            "Installing collected packages: category_encoders\n",
            "Successfully installed category_encoders-2.6.0\n"
          ]
        }
      ]
    },
    {
      "cell_type": "code",
      "execution_count": 2,
      "metadata": {
        "id": "xRAvWmXe89PG"
      },
      "outputs": [],
      "source": [
        "import numpy as np\n",
        "import pandas as pd\n",
        "import seaborn as sns\n",
        "import matplotlib.pyplot as plt\n",
        "from numpy.linalg import inv\n",
        "%matplotlib inline\n",
        "from sklearn.model_selection import train_test_split\n",
        "from sklearn.preprocessing import StandardScaler, OneHotEncoder\n",
        "import category_encoders as ce\n",
        "from sklearn.metrics import r2_score\n",
        "from sklearn.svm import LinearSVC, SVC\n",
        "import random\n",
        "from sklearn.metrics import accuracy_score\n",
        "from sklearn.compose import make_column_transformer\n",
        "from imblearn.over_sampling import SMOTE\n",
        "from sklearn.decomposition import PCA"
      ]
    },
    {
      "cell_type": "code",
      "source": [
        "from google.colab import drive\n",
        "drive.mount('/content/drive')\n",
        "\n",
        "%cd /content/drive/MyDrive/IEEE-CIS/"
      ],
      "metadata": {
        "colab": {
          "base_uri": "https://localhost:8080/"
        },
        "id": "AZRrhxtQXnZH",
        "outputId": "0addf99c-24e0-478e-98ef-38dcdafdf737"
      },
      "execution_count": 3,
      "outputs": [
        {
          "output_type": "stream",
          "name": "stdout",
          "text": [
            "Mounted at /content/drive\n",
            "/content/drive/.shortcut-targets-by-id/1BUDjtdkbYP6ayadYsrcyHHHfPTJigLdc/IEEE-CIS\n"
          ]
        }
      ]
    },
    {
      "cell_type": "code",
      "source": [
        "# load provided datasets\n",
        "train_transaction = pd.read_csv('train_transaction.csv')\n",
        "train_identity = pd.read_csv('train_identity.csv')\n",
        "\n",
        "# combine datasets as needed\n",
        "train = pd.merge(train_transaction, train_identity, on='TransactionID', how='left')"
      ],
      "metadata": {
        "id": "01VKexL99SFp"
      },
      "execution_count": 4,
      "outputs": []
    },
    {
      "cell_type": "code",
      "source": [
        "# The dataset are sparse, only consider the features with less than 30% missing data\n",
        "valid_cols = pd.DataFrame(train.isnull().sum()/len(train)*100 < 30)\n",
        "valid_cols = valid_cols[valid_cols[0] == True]\n",
        "train = train[list(valid_cols.index)]"
      ],
      "metadata": {
        "id": "6nKshLu_9WGx"
      },
      "execution_count": 5,
      "outputs": []
    },
    {
      "cell_type": "code",
      "source": [
        "# Seperate categorical variables\n",
        "train = train.astype({'ProductCD': 'category',\n",
        "                   'card1': 'category','card2': 'category','card3': 'category','card4': 'category','card5': 'category','card6': 'category',\n",
        "                   'addr1': 'category','addr2': 'category',\n",
        "                   'P_emaildomain': 'category',\n",
        "                   'M6': 'category'})"
      ],
      "metadata": {
        "id": "26xvPDz6_MQH"
      },
      "execution_count": 6,
      "outputs": []
    },
    {
      "cell_type": "code",
      "source": [
        "# Fill missing values in numerical columns\n",
        "num_cols = train.select_dtypes(include=np.number).columns.tolist()\n",
        "for column in num_cols:\n",
        "    train[column].fillna(train[column].median(), inplace=True)"
      ],
      "metadata": {
        "id": "wcgs9kHDGJya"
      },
      "execution_count": 7,
      "outputs": []
    },
    {
      "cell_type": "code",
      "source": [
        "# seperate X and Y\n",
        "train_X = train.drop(columns=['isFraud'])\n",
        "train_Y = train['isFraud']\n",
        "X_dev, X_test, y_dev, y_test = train_test_split(train_X, train_Y, test_size=0.2, stratify=train_Y, random_state=42)"
      ],
      "metadata": {
        "id": "2ogCs0NzGXRT"
      },
      "execution_count": 8,
      "outputs": []
    },
    {
      "cell_type": "code",
      "source": [
        "# drop high correlated (>0.9) features\n",
        "corr_matrix = X_dev.corr().abs()\n",
        "\n",
        "# create a mask for highly correlated features\n",
        "upper_tri = corr_matrix.where(np.triu(np.ones(corr_matrix.shape), k=1).astype('bool'))\n",
        "to_drop = [column for column in upper_tri.columns if any(upper_tri[column] >= 0.9)]\n",
        "X_dev = X_dev.drop(to_drop, axis=1)\n",
        "X_test = X_test.drop(to_drop, axis=1)"
      ],
      "metadata": {
        "id": "OmvW8F91BT5-",
        "colab": {
          "base_uri": "https://localhost:8080/"
        },
        "outputId": "032ad63b-7a87-4f85-8765-723dc9510ebe"
      },
      "execution_count": 9,
      "outputs": [
        {
          "output_type": "stream",
          "name": "stderr",
          "text": [
            "<ipython-input-9-f57138035e0b>:2: FutureWarning: The default value of numeric_only in DataFrame.corr is deprecated. In a future version, it will default to False. Select only valid columns or specify the value of numeric_only to silence this warning.\n",
            "  corr_matrix = X_dev.corr().abs()\n"
          ]
        }
      ]
    },
    {
      "cell_type": "code",
      "source": [
        "# Encoding and StandardScaler\n",
        "num_cols = X_dev.select_dtypes(include=np.number).columns.drop(['TransactionID']).tolist()\n",
        "te_cols = ['TransactionID','card1', 'card2', 'addr1', 'card5', 'card3', 'addr2', 'P_emaildomain']\n",
        "cat_cols = X_dev.select_dtypes(exclude=np.number).columns.drop(['card1', 'card2', 'addr1', 'card5', 'card3', 'addr2', 'P_emaildomain']).tolist()\n",
        "ohe_features = cat_cols\n",
        "num_features = num_cols\n",
        "te_features = te_cols\n",
        "\n",
        "preprocess = make_column_transformer((StandardScaler(), num_features), (OneHotEncoder(handle_unknown='ignore'), ohe_features), (ce.TargetEncoder(return_df=True), te_features))\n",
        "preprocess.fit(X_dev, y_dev)\n",
        "X_dev = preprocess.transform(X_dev)\n",
        "X_test = preprocess.transform(X_test)"
      ],
      "metadata": {
        "id": "GJwAdqfO-X1j"
      },
      "execution_count": 10,
      "outputs": []
    },
    {
      "cell_type": "code",
      "source": [
        "# SMOTE\n",
        "smote = SMOTE(random_state=42)\n",
        "X_dev, y_dev = smote.fit_resample(X_dev, y_dev)"
      ],
      "metadata": {
        "id": "rBP5_nIL9o6s"
      },
      "execution_count": 11,
      "outputs": []
    },
    {
      "cell_type": "code",
      "source": [
        "X_dev.shape"
      ],
      "metadata": {
        "id": "sqj4DabSoL-T",
        "colab": {
          "base_uri": "https://localhost:8080/"
        },
        "outputId": "b56e4760-60a2-49c9-dc83-bbe4d67ffa94"
      },
      "execution_count": 12,
      "outputs": [
        {
          "output_type": "execute_result",
          "data": {
            "text/plain": [
              "(911804, 125)"
            ]
          },
          "metadata": {},
          "execution_count": 12
        }
      ]
    },
    {
      "cell_type": "code",
      "source": [
        "!pip install optuna"
      ],
      "metadata": {
        "id": "oWVDbdvDHB5g",
        "colab": {
          "base_uri": "https://localhost:8080/"
        },
        "outputId": "d85fbba6-779a-41bb-f126-fdb845882cee"
      },
      "execution_count": 13,
      "outputs": [
        {
          "output_type": "stream",
          "name": "stdout",
          "text": [
            "Looking in indexes: https://pypi.org/simple, https://us-python.pkg.dev/colab-wheels/public/simple/\n",
            "Collecting optuna\n",
            "  Downloading optuna-3.1.1-py3-none-any.whl (365 kB)\n",
            "\u001b[2K     \u001b[90m━━━━━━━━━━━━━━━━━━━━━━━━━━━━━━━━━━━━━━\u001b[0m \u001b[32m365.7/365.7 kB\u001b[0m \u001b[31m17.3 MB/s\u001b[0m eta \u001b[36m0:00:00\u001b[0m\n",
            "\u001b[?25hRequirement already satisfied: numpy in /usr/local/lib/python3.10/dist-packages (from optuna) (1.22.4)\n",
            "Collecting alembic>=1.5.0\n",
            "  Downloading alembic-1.10.4-py3-none-any.whl (212 kB)\n",
            "\u001b[2K     \u001b[90m━━━━━━━━━━━━━━━━━━━━━━━━━━━━━━━━━━━━━━\u001b[0m \u001b[32m212.9/212.9 kB\u001b[0m \u001b[31m27.4 MB/s\u001b[0m eta \u001b[36m0:00:00\u001b[0m\n",
            "\u001b[?25hCollecting cmaes>=0.9.1\n",
            "  Downloading cmaes-0.9.1-py3-none-any.whl (21 kB)\n",
            "Requirement already satisfied: tqdm in /usr/local/lib/python3.10/dist-packages (from optuna) (4.65.0)\n",
            "Requirement already satisfied: packaging>=20.0 in /usr/local/lib/python3.10/dist-packages (from optuna) (23.1)\n",
            "Requirement already satisfied: PyYAML in /usr/local/lib/python3.10/dist-packages (from optuna) (6.0)\n",
            "Requirement already satisfied: sqlalchemy>=1.3.0 in /usr/local/lib/python3.10/dist-packages (from optuna) (2.0.10)\n",
            "Collecting colorlog\n",
            "  Downloading colorlog-6.7.0-py2.py3-none-any.whl (11 kB)\n",
            "Collecting Mako\n",
            "  Downloading Mako-1.2.4-py3-none-any.whl (78 kB)\n",
            "\u001b[2K     \u001b[90m━━━━━━━━━━━━━━━━━━━━━━━━━━━━━━━━━━━━━━━━\u001b[0m \u001b[32m78.7/78.7 kB\u001b[0m \u001b[31m11.9 MB/s\u001b[0m eta \u001b[36m0:00:00\u001b[0m\n",
            "\u001b[?25hRequirement already satisfied: typing-extensions>=4 in /usr/local/lib/python3.10/dist-packages (from alembic>=1.5.0->optuna) (4.5.0)\n",
            "Requirement already satisfied: greenlet!=0.4.17 in /usr/local/lib/python3.10/dist-packages (from sqlalchemy>=1.3.0->optuna) (2.0.2)\n",
            "Requirement already satisfied: MarkupSafe>=0.9.2 in /usr/local/lib/python3.10/dist-packages (from Mako->alembic>=1.5.0->optuna) (2.1.2)\n",
            "Installing collected packages: Mako, colorlog, cmaes, alembic, optuna\n",
            "Successfully installed Mako-1.2.4 alembic-1.10.4 cmaes-0.9.1 colorlog-6.7.0 optuna-3.1.1\n"
          ]
        }
      ]
    },
    {
      "cell_type": "code",
      "source": [
        "import optuna\n",
        "from xgboost import XGBClassifier\n",
        "from sklearn.experimental import enable_hist_gradient_boosting\n",
        "from sklearn.ensemble import HistGradientBoostingClassifier\n",
        "from sklearn.metrics import roc_auc_score, precision_score, recall_score, average_precision_score\n",
        "from sklearn.model_selection import cross_val_score, StratifiedKFold\n",
        "from sklearn.linear_model import LogisticRegression\n",
        "\n",
        "\n",
        "# Objective function for XG Gradient Boosting Classifier\n",
        "def xgb_objective(trial):\n",
        "    \n",
        "    n_estimators = trial.suggest_int(\"n_estimators\", 1, 2000)\n",
        "    eta = trial.suggest_float(\"eta\", 1e-5, 1, log=True)\n",
        "    gamma = trial.suggest_int(\"gamma\", 1, 9)\n",
        "    max_leaves = trial.suggest_int(\"max_leaves\", 15, 127)\n",
        "    \n",
        "    hist_gb = XGBClassifier(n_estimators=n_estimators, eta=eta, gamma=gamma, max_leaves=max_leaves, random_state=42, tree_method='gpu_hist')\n",
        "    \n",
        "    cv = StratifiedKFold(n_splits=5, shuffle=True, random_state=42)\n",
        "    auc_scores = cross_val_score(hist_gb, X_dev, y_dev, cv=cv, scoring='roc_auc', n_jobs=-1)\n",
        "\n",
        "    return np.mean(auc_scores)\n",
        "\n",
        "\n",
        "# Hist Gradient Boosting Classifier Hyperparameter Tuning\n",
        "xgb_study = optuna.create_study(direction='maximize')\n",
        "xgb_study.optimize(xgb_objective, n_trials=10)  # Increase the number of trials to 10\n",
        "\n",
        "\n",
        "best_xgb_params = xgb_study.best_params\n",
        "\n"
      ],
      "metadata": {
        "id": "HBQpNb9kHCsl",
        "colab": {
          "base_uri": "https://localhost:8080/"
        },
        "outputId": "fae3484d-d5f5-448a-8ece-8d0942375c3f"
      },
      "execution_count": 14,
      "outputs": [
        {
          "output_type": "stream",
          "name": "stderr",
          "text": [
            "/usr/local/lib/python3.10/dist-packages/sklearn/experimental/enable_hist_gradient_boosting.py:16: UserWarning: Since version 1.0, it is not needed to import enable_hist_gradient_boosting anymore. HistGradientBoostingClassifier and HistGradientBoostingRegressor are now stable and can be normally imported from sklearn.ensemble.\n",
            "  warnings.warn(\n",
            "\u001b[32m[I 2023-04-30 04:43:28,516]\u001b[0m A new study created in memory with name: no-name-71f49b12-2c14-44cd-9c39-3e73947ad041\u001b[0m\n",
            "\u001b[32m[I 2023-04-30 04:46:38,811]\u001b[0m Trial 0 finished with value: 0.99831409437168 and parameters: {'n_estimators': 1439, 'eta': 0.05660118530689979, 'gamma': 1, 'max_leaves': 122}. Best is trial 0 with value: 0.99831409437168.\u001b[0m\n",
            "\u001b[32m[I 2023-04-30 04:51:51,582]\u001b[0m Trial 1 finished with value: 0.9726651361970443 and parameters: {'n_estimators': 1871, 'eta': 6.978651777108051e-05, 'gamma': 6, 'max_leaves': 101}. Best is trial 0 with value: 0.99831409437168.\u001b[0m\n",
            "\u001b[32m[I 2023-04-30 04:52:49,863]\u001b[0m Trial 2 finished with value: 0.9540746775912966 and parameters: {'n_estimators': 143, 'eta': 4.736236552229986e-05, 'gamma': 7, 'max_leaves': 22}. Best is trial 0 with value: 0.99831409437168.\u001b[0m\n",
            "\u001b[32m[I 2023-04-30 04:54:03,890]\u001b[0m Trial 3 finished with value: 0.9900150614885128 and parameters: {'n_estimators': 214, 'eta': 0.008548093938585435, 'gamma': 4, 'max_leaves': 62}. Best is trial 0 with value: 0.99831409437168.\u001b[0m\n",
            "\u001b[32m[I 2023-04-30 04:54:56,751]\u001b[0m Trial 4 finished with value: 0.9977020223657498 and parameters: {'n_estimators': 108, 'eta': 0.20603146678926787, 'gamma': 6, 'max_leaves': 121}. Best is trial 0 with value: 0.99831409437168.\u001b[0m\n",
            "\u001b[32m[I 2023-04-30 04:56:27,497]\u001b[0m Trial 5 finished with value: 0.9644632066595664 and parameters: {'n_estimators': 344, 'eta': 2.2268817257795246e-05, 'gamma': 4, 'max_leaves': 34}. Best is trial 0 with value: 0.99831409437168.\u001b[0m\n",
            "\u001b[32m[I 2023-04-30 04:57:11,306]\u001b[0m Trial 6 finished with value: 0.9477176489335856 and parameters: {'n_estimators': 25, 'eta': 0.0003510903200179003, 'gamma': 8, 'max_leaves': 17}. Best is trial 0 with value: 0.99831409437168.\u001b[0m\n",
            "\u001b[32m[I 2023-04-30 04:58:33,041]\u001b[0m Trial 7 finished with value: 0.9977172800684626 and parameters: {'n_estimators': 787, 'eta': 0.6363440833005197, 'gamma': 7, 'max_leaves': 59}. Best is trial 0 with value: 0.99831409437168.\u001b[0m\n",
            "\u001b[32m[I 2023-04-30 05:02:36,432]\u001b[0m Trial 8 finished with value: 0.9721447669933992 and parameters: {'n_estimators': 1488, 'eta': 0.0003840158158556901, 'gamma': 5, 'max_leaves': 30}. Best is trial 0 with value: 0.99831409437168.\u001b[0m\n",
            "\u001b[32m[I 2023-04-30 05:04:40,193]\u001b[0m Trial 9 finished with value: 0.9981194540281224 and parameters: {'n_estimators': 1198, 'eta': 0.09792781756892367, 'gamma': 2, 'max_leaves': 59}. Best is trial 0 with value: 0.99831409437168.\u001b[0m\n"
          ]
        }
      ]
    },
    {
      "cell_type": "code",
      "source": [
        "xgb_clf = XGBClassifier(**best_xgb_params, random_state=42, tree_method='gpu_hist')\n",
        "\n",
        "xgb_clf.fit(X_dev, y_dev)\n",
        "\n",
        "# Predict on the test set\n",
        "xgb_pred = xgb_clf.predict(X_test)\n",
        "\n",
        "# Calculate evaluation metrics\n",
        "\n",
        "xgb_precision = precision_score(y_test, xgb_pred)\n",
        "\n",
        "xgb_recall = recall_score(y_test, xgb_pred)\n",
        "\n",
        "xgb_avg_precision = average_precision_score(y_test, xgb_pred)\n",
        "\n",
        "# Print evaluation metrics\n",
        "print(\"XGB Classifier:\")\n",
        "print(f\"Precision: {xgb_precision:.4f}\")\n",
        "print(f\"Recall: {xgb_recall:.4f}\")\n",
        "print(f\"Average Precision-Recall: {xgb_avg_precision:.4f}\")\n"
      ],
      "metadata": {
        "id": "Vk6IEqyt23PE",
        "colab": {
          "base_uri": "https://localhost:8080/"
        },
        "outputId": "19a9233e-2f06-41af-c994-6a5c46ac2dfa"
      },
      "execution_count": 16,
      "outputs": [
        {
          "output_type": "stream",
          "name": "stdout",
          "text": [
            "XGB Classifier:\n",
            "Precision: 0.8863\n",
            "Recall: 0.5335\n",
            "Average Precision-Recall: 0.4892\n"
          ]
        }
      ]
    },
    {
      "cell_type": "code",
      "source": [
        "print(\"Best Hyperparameters: \", xgb_study.best_params)"
      ],
      "metadata": {
        "id": "XVbvE1pdhLqK",
        "colab": {
          "base_uri": "https://localhost:8080/"
        },
        "outputId": "ed250bde-e99e-49e0-cdf1-379a30d948f8"
      },
      "execution_count": 17,
      "outputs": [
        {
          "output_type": "stream",
          "name": "stdout",
          "text": [
            "Best Hyperparameters:  {'n_estimators': 1439, 'eta': 0.05660118530689979, 'gamma': 1, 'max_leaves': 122}\n"
          ]
        }
      ]
    },
    {
      "cell_type": "code",
      "source": [
        "import matplotlib.pyplot as plt\n",
        "from sklearn.metrics import precision_recall_curve, auc\n",
        "\n",
        "# Compute Precision-Recall curve\n",
        "xgb_prob = xgb_clf.predict_proba(X_test)[:, 1]\n",
        "\n",
        "xgb_precision, xgb_recall, _ = precision_recall_curve(y_test, xgb_prob)\n",
        "\n",
        "# Compute the AUC of the Precision-Recall curve\n",
        "xgb_pr_auc = auc(xgb_recall, xgb_precision)\n",
        "\n",
        "# Plot the Precision-Recall curve\n",
        "plt.figure(figsize=(10, 8))\n",
        "plt.plot(xgb_recall, xgb_precision, label=f'XGB Regression (AUC = {xgb_pr_auc:.4f})')\n",
        "plt.xlabel('Recall')\n",
        "plt.ylabel('Precision')\n",
        "plt.title('Precision-Recall curve')\n",
        "plt.legend(loc='best')\n",
        "plt.show()"
      ],
      "metadata": {
        "id": "HfgEaaI2HRKG",
        "colab": {
          "base_uri": "https://localhost:8080/",
          "height": 718
        },
        "outputId": "388b0fbc-74f9-49f8-e7ae-a7d87283c24b"
      },
      "execution_count": 18,
      "outputs": [
        {
          "output_type": "display_data",
          "data": {
            "text/plain": [
              "<Figure size 1000x800 with 1 Axes>"
            ],
            "image/png": "[encoded data removed]"
          },
          "metadata": {}
        }
      ]
    },
    {
      "cell_type": "code",
      "source": [
        "from sklearn.metrics import roc_curve, auc\n",
        "import matplotlib.pyplot as plt\n",
        "y_pred_proba_xgb = xgb_clf.predict_proba(X_test)[:, 1]\n",
        "fpr_xgb, tpr_xgb, thresholds_xgb = roc_curve(y_test, y_pred_proba_xgb, pos_label=1)\n",
        "auc_xgb = auc(fpr_xgb, tpr_xgb)\n",
        "\n",
        "plt.plot(fpr_xgb, tpr_xgb, label=f'XGB Regression (AUC={auc_xgb:.2f})')\n",
        "\n",
        "plt.xlabel('False Positive Rate')\n",
        "plt.ylabel('True Positive Rate')\n",
        "plt.title('Receiver Operating Characteristic (ROC) Curve')\n",
        "plt.legend()\n",
        "plt.show()"
      ],
      "metadata": {
        "id": "JCeUPx9TcoGk",
        "colab": {
          "base_uri": "https://localhost:8080/",
          "height": 472
        },
        "outputId": "7013030c-8a96-4f83-8b04-5bbfe17d1fce"
      },
      "execution_count": 19,
      "outputs": [
        {
          "output_type": "display_data",
          "data": {
            "text/plain": [
              "<Figure size 640x480 with 1 Axes>"
            ],
            "image/png": "[encoded data removed]"
          },
          "metadata": {}
        }
      ]
    },
    {
      "cell_type": "code",
      "source": [
        "from sklearn.metrics import classification_report\n",
        "print(classification_report(y_test, xgb_pred))"
      ],
      "metadata": {
        "id": "onm9AUKEeaPP",
        "colab": {
          "base_uri": "https://localhost:8080/"
        },
        "outputId": "734a677c-7592-4a1c-e086-86a5c3922bb8"
      },
      "execution_count": 20,
      "outputs": [
        {
          "output_type": "stream",
          "name": "stdout",
          "text": [
            "              precision    recall  f1-score   support\n",
            "\n",
            "           0       0.98      1.00      0.99    113975\n",
            "           1       0.89      0.53      0.67      4133\n",
            "\n",
            "    accuracy                           0.98    118108\n",
            "   macro avg       0.93      0.77      0.83    118108\n",
            "weighted avg       0.98      0.98      0.98    118108\n",
            "\n"
          ]
        }
      ]
    },
    {
      "cell_type": "code",
      "source": [
        "import numpy as np\n",
        "\n",
        "np.save('fpr_xgb.npy', fpr_xgb)\n",
        "np.save('tpr_xgb.npy', tpr_xgb)"
      ],
      "metadata": {
        "id": "r_akQzrF3152"
      },
      "execution_count": 21,
      "outputs": []
    },
    {
      "cell_type": "code",
      "source": [],
      "metadata": {
        "id": "OvlIVqy_jaBh"
      },
      "execution_count": null,
      "outputs": []
    }
  ]
}