{
  "nbformat": 4,
  "nbformat_minor": 0,
  "metadata": {
    "colab": {
      "provenance": [],
      "collapsed_sections": [
        "Iv_nyCwN-g56",
        "s_ooX5gG0nTW"
      ],
      "toc_visible": true
    },
    "kernelspec": {
      "name": "python3",
      "display_name": "Python 3"
    },
    "language_info": {
      "name": "python"
    }
  },
  "cells": [
    {
      "cell_type": "markdown",
      "source": [
        "# Download dataset\n"
      ],
      "metadata": {
        "id": "Iv_nyCwN-g56"
      }
    },
    {
      "cell_type": "code",
      "execution_count": 1,
      "metadata": {
        "colab": {
          "base_uri": "https://localhost:8080/",
          "height": 0
        },
        "id": "eX9B37kQ834t",
        "outputId": "287e38a1-840b-4962-a9c1-1e59b869f619"
      },
      "outputs": [
        {
          "output_type": "stream",
          "name": "stdout",
          "text": [
            "Drive already mounted at /content/drive; to attempt to forcibly remount, call drive.mount(\"/content/drive\", force_remount=True).\n",
            "/content/drive/MyDrive/AML EX\n"
          ]
        }
      ],
      "source": [
        "# connect to google drive \n",
        "from google.colab import drive\n",
        "drive.mount('/content/drive')\n",
        "\n",
        "# move to selected directory\n",
        "%cd /content/drive/MyDrive/AML\\ EX"
      ]
    },
    {
      "cell_type": "code",
      "source": [
        "# setup kaggle credentials\n",
        "import os\n",
        "os.environ['KAGGLE_USERNAME'] = 'qingchengyu001'\n",
        "os.environ['KAGGLE_KEY'] = '2e305b7c5be2de80581dd9cf4779b483'\n",
        "\n",
        "# download kaggle dataset\n",
        "! kaggle competitions download -c 'ieee-fraud-detection'"
      ],
      "metadata": {
        "colab": {
          "base_uri": "https://localhost:8080/"
        },
        "id": "sIwqSViMGgpT",
        "outputId": "7689cad9-95f7-4925-851d-d38dc6a52721"
      },
      "execution_count": null,
      "outputs": [
        {
          "output_type": "stream",
          "name": "stdout",
          "text": [
            "User cancelled operation\n",
            "Exception ignored in atexit callback: <function _exit_function at 0x7fc221950c10>\n",
            "Traceback (most recent call last):\n",
            "  File \"/usr/lib/python3.10/multiprocessing/util.py\", line 334, in _exit_function\n",
            "    _run_finalizers(0)\n",
            "  File \"/usr/lib/python3.10/multiprocessing/util.py\", line 300, in _run_finalizers\n",
            "    finalizer()\n",
            "  File \"/usr/lib/python3.10/multiprocessing/util.py\", line 224, in __call__\n",
            "    res = self._callback(*self._args, **self._kwargs)\n",
            "  File \"/usr/lib/python3.10/multiprocessing/pool.py\", line 702, in _terminate_pool\n",
            "    change_notifier.put(None)\n",
            "  File \"/usr/lib/python3.10/multiprocessing/queues.py\", line 377, in put\n",
            "    self._writer.send_bytes(obj)\n",
            "  File \"/usr/lib/python3.10/multiprocessing/connection.py\", line 200, in send_bytes\n",
            "    self._send_bytes(m[offset:offset + size])\n",
            "  File \"/usr/lib/python3.10/multiprocessing/connection.py\", line 411, in _send_bytes\n",
            "    self._send(header + buf)\n",
            "  File \"/usr/lib/python3.10/multiprocessing/connection.py\", line 368, in _send\n",
            "    n = write(self._handle, buf)\n",
            "KeyboardInterrupt: \n"
          ]
        }
      ]
    },
    {
      "cell_type": "code",
      "source": [
        "# unzip downloaded dataset\n",
        "! unzip ieee-fraud-detection.zip"
      ],
      "metadata": {
        "colab": {
          "base_uri": "https://localhost:8080/"
        },
        "id": "LghsB2WOG1X4",
        "outputId": "33ee1d39-1569-4fa9-d71a-61c142139e7c"
      },
      "execution_count": null,
      "outputs": [
        {
          "output_type": "stream",
          "name": "stdout",
          "text": [
            "Archive:  ieee-fraud-detection.zip\n",
            "replace sample_submission.csv? [y]es, [n]o, [A]ll, [N]one, [r]ename: "
          ]
        }
      ]
    },
    {
      "cell_type": "markdown",
      "source": [
        "# Data Cleaning"
      ],
      "metadata": {
        "id": "gk5aeDHUIlHo"
      }
    },
    {
      "cell_type": "code",
      "source": [
        "# import pandas and configure\n",
        "import pandas as pd\n",
        "pd.set_option('display.max_columns', None)\n",
        "pd.set_option('display.max_rows', None)"
      ],
      "metadata": {
        "id": "QseeAbF-In4K"
      },
      "execution_count": 2,
      "outputs": []
    },
    {
      "cell_type": "code",
      "source": [
        "# load provided datasets\n",
        "train_transaction = pd.read_csv('train_transaction.csv')\n",
        "train_identity = pd.read_csv('train_identity.csv')\n",
        "\n",
        "# combine datasets as needed\n",
        "train = pd.merge(train_transaction, train_identity, on='TransactionID', how='left')\n",
        "\n",
        "# the dataset are sparse, only consider the features with less than 30% missing \n",
        "#   data, drop the columns have higher than 70% missing values\n",
        "valid_cols = pd.DataFrame(train.isnull().sum()/len(train)*100 < 30)\n",
        "valid_cols = valid_cols[valid_cols[0] == True]\n",
        "train = train[list(valid_cols.index)]"
      ],
      "metadata": {
        "id": "VQ5bKd3GIxUr"
      },
      "execution_count": 3,
      "outputs": []
    },
    {
      "cell_type": "code",
      "source": [
        "import numpy as np\n",
        "\n",
        "# seperate categorical variables, some categorical variables are stored as \n",
        "#   numerical values, for further procresses, convert to category data type\n",
        "train = train.astype({'ProductCD': 'category',\n",
        "                   'card1': 'category','card2': 'category','card3': 'category','card4': 'category','card5': 'category','card6': 'category',\n",
        "                   'addr1': 'category','addr2': 'category',\n",
        "                   'P_emaildomain': 'category',\n",
        "                   'M6': 'category'})\n",
        "\n",
        "# fill missing values in numerical columns with median values\n",
        "num_cols = train.select_dtypes(include=np.number).columns.tolist()\n",
        "for column in num_cols:\n",
        "    train[column].fillna(train[column].median(), inplace=True)"
      ],
      "metadata": {
        "id": "OLjsPTOZKpVk"
      },
      "execution_count": 4,
      "outputs": []
    },
    {
      "cell_type": "code",
      "source": [
        "from sklearn.model_selection import train_test_split\n",
        "\n",
        "# seperate X and Y and split to development dataset and test dataset\n",
        "train_X = train.drop(columns=['isFraud'])\n",
        "train_Y = train['isFraud']\n",
        "X_dev, X_test, y_dev, y_test = train_test_split(train_X, train_Y, test_size=0.2, stratify=train_Y, random_state=42)"
      ],
      "metadata": {
        "id": "P7KPDcubLNvI"
      },
      "execution_count": 5,
      "outputs": []
    },
    {
      "cell_type": "code",
      "source": [
        "# drop high correlated (>0.9) features\n",
        "corr_matrix = X_dev.corr().abs()\n",
        "\n",
        "# create a mask for highly correlated features\n",
        "upper_tri = corr_matrix.where(np.triu(np.ones(corr_matrix.shape), k=1).astype('bool'))\n",
        "to_drop = [column for column in upper_tri.columns if any(upper_tri[column] >= 0.9)]\n",
        "X_dev = X_dev.drop(to_drop, axis=1)\n",
        "X_test = X_test.drop(to_drop, axis=1)"
      ],
      "metadata": {
        "id": "Kl0wieYRLuzw",
        "colab": {
          "base_uri": "https://localhost:8080/",
          "height": 0
        },
        "outputId": "462cb6ee-8f92-4caa-b9aa-f345194193cb"
      },
      "execution_count": 6,
      "outputs": [
        {
          "output_type": "stream",
          "name": "stderr",
          "text": [
            "<ipython-input-6-f57138035e0b>:2: FutureWarning: The default value of numeric_only in DataFrame.corr is deprecated. In a future version, it will default to False. Select only valid columns or specify the value of numeric_only to silence this warning.\n",
            "  corr_matrix = X_dev.corr().abs()\n"
          ]
        }
      ]
    },
    {
      "cell_type": "code",
      "source": [
        "! pip install category_encoders\n",
        "import category_encoders as ce\n",
        "from sklearn.compose import make_column_transformer\n",
        "from sklearn.preprocessing import StandardScaler, OneHotEncoder\n",
        "\n",
        "# one-hot encoding for category features, StandardScaler for numerical feature, \n",
        "#   Taget encoding for  high cardinality categorical features\n",
        "num_cols = X_dev.select_dtypes(include=np.number).columns.drop(['TransactionID']).tolist()\n",
        "te_cols = ['TransactionID','card1', 'card2', 'addr1', 'card5', 'card3', 'addr2', 'P_emaildomain']\n",
        "cat_cols = X_dev.select_dtypes(exclude=np.number).columns.drop(['card1', 'card2', 'addr1', 'card5', 'card3', 'addr2', 'P_emaildomain']).tolist()\n",
        "ohe_features = cat_cols\n",
        "num_features = num_cols\n",
        "te_features = te_cols\n",
        "\n",
        "preprocess = make_column_transformer((StandardScaler(), num_features), (OneHotEncoder(handle_unknown='ignore'), ohe_features), (ce.TargetEncoder(return_df=True), te_features))\n",
        "preprocess.fit(X_dev, y_dev)\n",
        "X_dev = preprocess.transform(X_dev)\n",
        "X_test = preprocess.transform(X_test)"
      ],
      "metadata": {
        "id": "ehZzYz1oL9lz",
        "colab": {
          "base_uri": "https://localhost:8080/",
          "height": 0
        },
        "outputId": "2c9b0ba5-b3d1-48b2-ef93-c03c7b20eaed"
      },
      "execution_count": 7,
      "outputs": [
        {
          "output_type": "stream",
          "name": "stdout",
          "text": [
            "Looking in indexes: https://pypi.org/simple, https://us-python.pkg.dev/colab-wheels/public/simple/\n",
            "Requirement already satisfied: category_encoders in /usr/local/lib/python3.10/dist-packages (2.6.0)\n",
            "Requirement already satisfied: statsmodels>=0.9.0 in /usr/local/lib/python3.10/dist-packages (from category_encoders) (0.13.5)\n",
            "Requirement already satisfied: numpy>=1.14.0 in /usr/local/lib/python3.10/dist-packages (from category_encoders) (1.22.4)\n",
            "Requirement already satisfied: scipy>=1.0.0 in /usr/local/lib/python3.10/dist-packages (from category_encoders) (1.10.1)\n",
            "Requirement already satisfied: patsy>=0.5.1 in /usr/local/lib/python3.10/dist-packages (from category_encoders) (0.5.3)\n",
            "Requirement already satisfied: scikit-learn>=0.20.0 in /usr/local/lib/python3.10/dist-packages (from category_encoders) (1.2.2)\n",
            "Requirement already satisfied: pandas>=1.0.5 in /usr/local/lib/python3.10/dist-packages (from category_encoders) (1.5.3)\n",
            "Requirement already satisfied: pytz>=2020.1 in /usr/local/lib/python3.10/dist-packages (from pandas>=1.0.5->category_encoders) (2022.7.1)\n",
            "Requirement already satisfied: python-dateutil>=2.8.1 in /usr/local/lib/python3.10/dist-packages (from pandas>=1.0.5->category_encoders) (2.8.2)\n",
            "Requirement already satisfied: six in /usr/local/lib/python3.10/dist-packages (from patsy>=0.5.1->category_encoders) (1.16.0)\n",
            "Requirement already satisfied: threadpoolctl>=2.0.0 in /usr/local/lib/python3.10/dist-packages (from scikit-learn>=0.20.0->category_encoders) (3.1.0)\n",
            "Requirement already satisfied: joblib>=1.1.1 in /usr/local/lib/python3.10/dist-packages (from scikit-learn>=0.20.0->category_encoders) (1.2.0)\n",
            "Requirement already satisfied: packaging>=21.3 in /usr/local/lib/python3.10/dist-packages (from statsmodels>=0.9.0->category_encoders) (23.1)\n"
          ]
        }
      ]
    },
    {
      "cell_type": "code",
      "source": [
        "from imblearn.over_sampling import SMOTE\n",
        "\n",
        "# SMOTE\n",
        "smote = SMOTE(random_state=42)\n",
        "X_dev, y_dev = smote.fit_resample(X_dev, y_dev)"
      ],
      "metadata": {
        "id": "XtJAhmhRMi5N"
      },
      "execution_count": 8,
      "outputs": []
    },
    {
      "cell_type": "markdown",
      "source": [
        "# Decision Tree"
      ],
      "metadata": {
        "id": "vSzZgH69NIi4"
      }
    },
    {
      "cell_type": "code",
      "source": [
        "from sklearn.tree import DecisionTreeClassifier\n",
        "from sklearn.metrics import f1_score, accuracy_score\n",
        "\n",
        "# fit the decision tree on the development data until all the leaves ar\n",
        "dtc = DecisionTreeClassifier(random_state=42) \n",
        "dtc.fit(X_dev, y_dev)"
      ],
      "metadata": {
        "colab": {
          "base_uri": "https://localhost:8080/",
          "height": 75
        },
        "id": "sLyZ3soSNKHP",
        "outputId": "70657b30-b4fc-4b8f-b721-7d7e03d8d49d"
      },
      "execution_count": 9,
      "outputs": [
        {
          "output_type": "execute_result",
          "data": {
            "text/plain": [
              "DecisionTreeClassifier(random_state=42)"
            ],
            "text/html": [
              "<style>#sk-container-id-1 {color: black;background-color: white;}#sk-container-id-1 pre{padding: 0;}#sk-container-id-1 div.sk-toggleable {background-color: white;}#sk-container-id-1 label.sk-toggleable__label {cursor: pointer;display: block;width: 100%;margin-bottom: 0;padding: 0.3em;box-sizing: border-box;text-align: center;}#sk-container-id-1 label.sk-toggleable__label-arrow:before {content: \"▸\";float: left;margin-right: 0.25em;color: #696969;}#sk-container-id-1 label.sk-toggleable__label-arrow:hover:before {color: black;}#sk-container-id-1 div.sk-estimator:hover label.sk-toggleable__label-arrow:before {color: black;}#sk-container-id-1 div.sk-toggleable__content {max-height: 0;max-width: 0;overflow: hidden;text-align: left;background-color: #f0f8ff;}#sk-container-id-1 div.sk-toggleable__content pre {margin: 0.2em;color: black;border-radius: 0.25em;background-color: #f0f8ff;}#sk-container-id-1 input.sk-toggleable__control:checked~div.sk-toggleable__content {max-height: 200px;max-width: 100%;overflow: auto;}#sk-container-id-1 input.sk-toggleable__control:checked~label.sk-toggleable__label-arrow:before {content: \"▾\";}#sk-container-id-1 div.sk-estimator input.sk-toggleable__control:checked~label.sk-toggleable__label {background-color: #d4ebff;}#sk-container-id-1 div.sk-label input.sk-toggleable__control:checked~label.sk-toggleable__label {background-color: #d4ebff;}#sk-container-id-1 input.sk-hidden--visually {border: 0;clip: rect(1px 1px 1px 1px);clip: rect(1px, 1px, 1px, 1px);height: 1px;margin: -1px;overflow: hidden;padding: 0;position: absolute;width: 1px;}#sk-container-id-1 div.sk-estimator {font-family: monospace;background-color: #f0f8ff;border: 1px dotted black;border-radius: 0.25em;box-sizing: border-box;margin-bottom: 0.5em;}#sk-container-id-1 div.sk-estimator:hover {background-color: #d4ebff;}#sk-container-id-1 div.sk-parallel-item::after {content: \"\";width: 100%;border-bottom: 1px solid gray;flex-grow: 1;}#sk-container-id-1 div.sk-label:hover label.sk-toggleable__label {background-color: #d4ebff;}#sk-container-id-1 div.sk-serial::before {content: \"\";position: absolute;border-left: 1px solid gray;box-sizing: border-box;top: 0;bottom: 0;left: 50%;z-index: 0;}#sk-container-id-1 div.sk-serial {display: flex;flex-direction: column;align-items: center;background-color: white;padding-right: 0.2em;padding-left: 0.2em;position: relative;}#sk-container-id-1 div.sk-item {position: relative;z-index: 1;}#sk-container-id-1 div.sk-parallel {display: flex;align-items: stretch;justify-content: center;background-color: white;position: relative;}#sk-container-id-1 div.sk-item::before, #sk-container-id-1 div.sk-parallel-item::before {content: \"\";position: absolute;border-left: 1px solid gray;box-sizing: border-box;top: 0;bottom: 0;left: 50%;z-index: -1;}#sk-container-id-1 div.sk-parallel-item {display: flex;flex-direction: column;z-index: 1;position: relative;background-color: white;}#sk-container-id-1 div.sk-parallel-item:first-child::after {align-self: flex-end;width: 50%;}#sk-container-id-1 div.sk-parallel-item:last-child::after {align-self: flex-start;width: 50%;}#sk-container-id-1 div.sk-parallel-item:only-child::after {width: 0;}#sk-container-id-1 div.sk-dashed-wrapped {border: 1px dashed gray;margin: 0 0.4em 0.5em 0.4em;box-sizing: border-box;padding-bottom: 0.4em;background-color: white;}#sk-container-id-1 div.sk-label label {font-family: monospace;font-weight: bold;display: inline-block;line-height: 1.2em;}#sk-container-id-1 div.sk-label-container {text-align: center;}#sk-container-id-1 div.sk-container {/* jupyter's `normalize.less` sets `[hidden] { display: none; }` but bootstrap.min.css set `[hidden] { display: none !important; }` so we also need the `!important` here to be able to override the default hidden behavior on the sphinx rendered scikit-learn.org. See: https://github.com/scikit-learn/scikit-learn/issues/21755 */display: inline-block !important;position: relative;}#sk-container-id-1 div.sk-text-repr-fallback {display: none;}</style><div id=\"sk-container-id-1\" class=\"sk-top-container\"><div class=\"sk-text-repr-fallback\"><pre>DecisionTreeClassifier(random_state=42)</pre><b>In a Jupyter environment, please rerun this cell to show the HTML representation or trust the notebook. <br />On GitHub, the HTML representation is unable to render, please try loading this page with nbviewer.org.</b></div><div class=\"sk-container\" hidden><div class=\"sk-item\"><div class=\"sk-estimator sk-toggleable\"><input class=\"sk-toggleable__control sk-hidden--visually\" id=\"sk-estimator-id-1\" type=\"checkbox\" checked><label for=\"sk-estimator-id-1\" class=\"sk-toggleable__label sk-toggleable__label-arrow\">DecisionTreeClassifier</label><div class=\"sk-toggleable__content\"><pre>DecisionTreeClassifier(random_state=42)</pre></div></div></div></div></div>"
            ]
          },
          "metadata": {},
          "execution_count": 9
        }
      ]
    },
    {
      "cell_type": "code",
      "source": [
        "from sklearn.metrics import precision_score, recall_score, roc_auc_score, average_precision_score\n",
        "\n",
        "# use the model to predict for the train and test sets\n",
        "y_test_pred = dtc.predict(X_test)\n",
        "\n",
        "# calculate accuracy, precision, recall and F-1 on the test set\n",
        "f1_test = f1_score(y_test, y_test_pred) \n",
        "acc_test = accuracy_score(y_test, y_test_pred)\n",
        "prec_test = precision_score(y_test, y_test_pred)\n",
        "recall_test = recall_score(y_test, y_test_pred)\n",
        "\n",
        "# calculate the AUC ROC scores\n",
        "auc_roc_test = roc_auc_score(y_test, dtc.predict_proba(X_test)[:, 1])\n",
        "auc_pr_test = average_precision_score(y_test, dtc.predict_proba(X_test)[:, 1] > 0.5)\n",
        "\n",
        "print(\"\\nTest Set\")\n",
        "print(f\"Accuracy: {acc_test}\")\n",
        "print(f\"Precision: {prec_test}\")\n",
        "print(f\"Recall: {recall_test}\")\n",
        "print(f\"F-1: {f1_test}\")\n",
        "print(f\"AUC_ROC: {auc_roc_test}\")\n",
        "print(f\"AUC_PR: {auc_pr_test}\")"
      ],
      "metadata": {
        "colab": {
          "base_uri": "https://localhost:8080/",
          "height": 0
        },
        "id": "EE9-Bw8ZQmDu",
        "outputId": "8c9961f8-1c35-430d-ddb5-16e6fa10d566"
      },
      "execution_count": 10,
      "outputs": [
        {
          "output_type": "stream",
          "name": "stdout",
          "text": [
            "\n",
            "Test Set\n",
            "Accuracy: 0.9651928743184204\n",
            "Precision: 0.5023344651952462\n",
            "Recall: 0.5727074764093879\n",
            "F-1: 0.5352176370830979\n",
            "AUC_ROC: 0.7760663944889667\n",
            "AUC_PR: 0.30264312030784674\n"
          ]
        }
      ]
    },
    {
      "cell_type": "code",
      "source": [
        "from sklearn.metrics import precision_recall_curve, auc\n",
        "import matplotlib.pyplot as plt\n",
        "\n",
        "prc_p_test, prc_r_test, prc_thresholds_test = precision_recall_curve(y_test, dtc.predict_proba(X_test)[:, 1])\n",
        "auc_pr = auc(prc_r_test, prc_p_test)\n",
        "\n",
        "plt.plot(prc_r_test, prc_p_test)\n",
        "plt.xlabel(\"Recall\")\n",
        "plt.ylabel(\"Precision\")\n",
        "plt.title(f\"Test Precision-Recall Curve (AUC = {auc_pr:.2f})\")\n",
        "plt.show()"
      ],
      "metadata": {
        "colab": {
          "base_uri": "https://localhost:8080/",
          "height": 472
        },
        "id": "UQK0-HZVT5kM",
        "outputId": "f75deb55-c274-4dfa-cc65-8d7451083c21"
      },
      "execution_count": 11,
      "outputs": [
        {
          "output_type": "display_data",
          "data": {
            "text/plain": [
              "<Figure size 640x480 with 1 Axes>"
            ],
            "image/png": "[encoded data removed]"
          },
          "metadata": {}
        }
      ]
    },
    {
      "cell_type": "code",
      "source": [
        "# list the top three features found using a decision tree model\n",
        "\n",
        "feature_importances = dtc.feature_importances_\n",
        "\n",
        "ohe_feature_names = preprocess.named_transformers_['onehotencoder'].get_feature_names_out().tolist()\n",
        "te_feature_names = te_features.copy()\n",
        "num_feature_names = num_features.copy()\n",
        "feature_names = num_feature_names + ohe_feature_names + te_feature_names\n",
        "\n",
        "# sort the features by importance score in descending order\n",
        "sorted_idx = feature_importances.argsort()[::-1]\n",
        "\n",
        "print(\"Top 3 features:\")\n",
        "for i in range(3):\n",
        "    print(f\"{i+1}) {feature_names[sorted_idx[i]]}\")"
      ],
      "metadata": {
        "colab": {
          "base_uri": "https://localhost:8080/",
          "height": 0
        },
        "id": "Tc6NVGhq2Wk6",
        "outputId": "6aa06588-0f4a-49dd-fcf6-054fa6b3a625"
      },
      "execution_count": 12,
      "outputs": [
        {
          "output_type": "stream",
          "name": "stdout",
          "text": [
            "Top 3 features:\n",
            "1) card1\n",
            "2) V95\n",
            "3) C1\n"
          ]
        }
      ]
    },
    {
      "cell_type": "markdown",
      "source": [
        "# K-Fold Cross Validation on Decision Tree\n"
      ],
      "metadata": {
        "id": "6tlE1NpLoh4e"
      }
    },
    {
      "cell_type": "code",
      "source": [
        "! pip install optuna \n",
        "from sklearn.model_selection import cross_val_score, StratifiedKFold\n",
        "import optuna"
      ],
      "metadata": {
        "id": "jzEgcwfuopK6",
        "colab": {
          "base_uri": "https://localhost:8080/",
          "height": 0
        },
        "outputId": "f1dd2722-1536-4b9a-87ef-a227a45bbe19"
      },
      "execution_count": 15,
      "outputs": [
        {
          "output_type": "stream",
          "name": "stdout",
          "text": [
            "Looking in indexes: https://pypi.org/simple, https://us-python.pkg.dev/colab-wheels/public/simple/\n",
            "Requirement already satisfied: optuna in /usr/local/lib/python3.10/dist-packages (3.1.1)\n",
            "Requirement already satisfied: sqlalchemy>=1.3.0 in /usr/local/lib/python3.10/dist-packages (from optuna) (2.0.10)\n",
            "Requirement already satisfied: PyYAML in /usr/local/lib/python3.10/dist-packages (from optuna) (6.0)\n",
            "Requirement already satisfied: numpy in /usr/local/lib/python3.10/dist-packages (from optuna) (1.22.4)\n",
            "Requirement already satisfied: packaging>=20.0 in /usr/local/lib/python3.10/dist-packages (from optuna) (23.1)\n",
            "Requirement already satisfied: tqdm in /usr/local/lib/python3.10/dist-packages (from optuna) (4.65.0)\n",
            "Requirement already satisfied: cmaes>=0.9.1 in /usr/local/lib/python3.10/dist-packages (from optuna) (0.9.1)\n",
            "Requirement already satisfied: alembic>=1.5.0 in /usr/local/lib/python3.10/dist-packages (from optuna) (1.10.4)\n",
            "Requirement already satisfied: colorlog in /usr/local/lib/python3.10/dist-packages (from optuna) (6.7.0)\n",
            "Requirement already satisfied: Mako in /usr/local/lib/python3.10/dist-packages (from alembic>=1.5.0->optuna) (1.2.4)\n",
            "Requirement already satisfied: typing-extensions>=4 in /usr/local/lib/python3.10/dist-packages (from alembic>=1.5.0->optuna) (4.5.0)\n",
            "Requirement already satisfied: greenlet!=0.4.17 in /usr/local/lib/python3.10/dist-packages (from sqlalchemy>=1.3.0->optuna) (2.0.2)\n",
            "Requirement already satisfied: MarkupSafe>=0.9.2 in /usr/local/lib/python3.10/dist-packages (from Mako->alembic>=1.5.0->optuna) (2.1.2)\n"
          ]
        }
      ]
    },
    {
      "cell_type": "code",
      "source": [
        "# create the objective function used by optuna for optimaization\n",
        "def dt_objective(trial):\n",
        "    # define hyperparameters being optimized\n",
        "    criterion = trial.suggest_categorical(\"criterion\", [\"gini\", \"entropy\"])\n",
        "    max_depth = trial.suggest_int(\"max_depth\", 3, 15)\n",
        "    min_samples_split = trial.suggest_int(\"min_samples_split\", 2, 10)\n",
        "    min_samples_leaf = trial.suggest_int(\"min_samples_leaf\", 1, 5)\n",
        "    \n",
        "    # train the decision tree with optimized hyperparameters and 5-fold CV\n",
        "    dtc2 = DecisionTreeClassifier(criterion=criterion, max_depth=max_depth, min_samples_split=min_samples_split, min_samples_leaf=min_samples_leaf)\n",
        "    cv = StratifiedKFold(n_splits=5, shuffle=True, random_state=42)\n",
        "\n",
        "    auc_scores = cross_val_score(dtc2, X_dev, y_dev, cv=cv, scoring='roc_auc', n_jobs=-1)\n",
        "    return np.mean(auc_scores)\n",
        "\n",
        "# Use Optuna to optimize hyperparameters\n",
        "study = optuna.create_study(direction=\"maximize\")\n",
        "study.optimize(dt_objective, n_trials=10)\n",
        "\n",
        "# Get best hyperparameters and train final model\n",
        "best_params = study.best_params\n",
        "dtc3 = DecisionTreeClassifier(**best_params)\n",
        "dtc3.fit(X_dev, y_dev)"
      ],
      "metadata": {
        "colab": {
          "base_uri": "https://localhost:8080/",
          "height": 0
        },
        "id": "_kyslWIWrDYd",
        "outputId": "d2d7282d-0316-4727-d1d1-c382bf78624e"
      },
      "execution_count": 16,
      "outputs": [
        {
          "output_type": "stream",
          "name": "stderr",
          "text": [
            "\u001b[32m[I 2023-04-30 20:02:16,957]\u001b[0m A new study created in memory with name: no-name-16f46500-d0b7-42fd-903e-bd380821cdd5\u001b[0m\n",
            "\u001b[32m[I 2023-04-30 20:05:31,706]\u001b[0m Trial 0 finished with value: 0.9887758870039001 and parameters: {'criterion': 'gini', 'max_depth': 10, 'min_samples_split': 8, 'min_samples_leaf': 1}. Best is trial 0 with value: 0.9887758870039001.\u001b[0m\n",
            "\u001b[32m[I 2023-04-30 20:08:55,180]\u001b[0m Trial 1 finished with value: 0.9924538958613205 and parameters: {'criterion': 'entropy', 'max_depth': 11, 'min_samples_split': 2, 'min_samples_leaf': 2}. Best is trial 1 with value: 0.9924538958613205.\u001b[0m\n",
            "\u001b[32m[I 2023-04-30 20:12:15,122]\u001b[0m Trial 2 finished with value: 0.9922993141061756 and parameters: {'criterion': 'gini', 'max_depth': 14, 'min_samples_split': 6, 'min_samples_leaf': 4}. Best is trial 1 with value: 0.9924538958613205.\u001b[0m\n",
            "\u001b[32m[I 2023-04-30 20:14:32,881]\u001b[0m Trial 3 finished with value: 0.9774273853276995 and parameters: {'criterion': 'gini', 'max_depth': 7, 'min_samples_split': 2, 'min_samples_leaf': 1}. Best is trial 1 with value: 0.9924538958613205.\u001b[0m\n",
            "\u001b[32m[I 2023-04-30 20:17:32,048]\u001b[0m Trial 4 finished with value: 0.9900883505519691 and parameters: {'criterion': 'gini', 'max_depth': 11, 'min_samples_split': 7, 'min_samples_leaf': 2}. Best is trial 1 with value: 0.9924538958613205.\u001b[0m\n",
            "\u001b[32m[I 2023-04-30 20:20:49,186]\u001b[0m Trial 5 finished with value: 0.9924343943110128 and parameters: {'criterion': 'entropy', 'max_depth': 11, 'min_samples_split': 5, 'min_samples_leaf': 1}. Best is trial 1 with value: 0.9924538958613205.\u001b[0m\n",
            "\u001b[32m[I 2023-04-30 20:23:39,100]\u001b[0m Trial 6 finished with value: 0.9887482672057827 and parameters: {'criterion': 'gini', 'max_depth': 10, 'min_samples_split': 4, 'min_samples_leaf': 1}. Best is trial 1 with value: 0.9924538958613205.\u001b[0m\n",
            "\u001b[32m[I 2023-04-30 20:26:17,957]\u001b[0m Trial 7 finished with value: 0.9867999178747177 and parameters: {'criterion': 'gini', 'max_depth': 9, 'min_samples_split': 3, 'min_samples_leaf': 5}. Best is trial 1 with value: 0.9924538958613205.\u001b[0m\n",
            "\u001b[32m[I 2023-04-30 20:29:25,259]\u001b[0m Trial 8 finished with value: 0.9911050711637801 and parameters: {'criterion': 'gini', 'max_depth': 12, 'min_samples_split': 5, 'min_samples_leaf': 3}. Best is trial 1 with value: 0.9924538958613205.\u001b[0m\n",
            "\u001b[32m[I 2023-04-30 20:31:47,251]\u001b[0m Trial 9 finished with value: 0.9774273853276995 and parameters: {'criterion': 'gini', 'max_depth': 7, 'min_samples_split': 7, 'min_samples_leaf': 1}. Best is trial 1 with value: 0.9924538958613205.\u001b[0m\n"
          ]
        },
        {
          "output_type": "stream",
          "name": "stdout",
          "text": [
            "Accuracy: 0.9644308598909472\n"
          ]
        }
      ]
    },
    {
      "cell_type": "code",
      "source": [
        "# use the model to predict for the train and test sets\n",
        "y_test_pred_opt = dtc3.predict(X_test)\n",
        "\n",
        "# calculate accuracy, precision, recall and F-1 on the test set\n",
        "f1_test_opt = f1_score(y_test, y_test_pred_opt) \n",
        "acc_test_opt = accuracy_score(y_test, y_test_pred_opt)\n",
        "prec_test_opt = precision_score(y_test, y_test_pred_opt)\n",
        "recall_test_opt = recall_score(y_test, y_test_pred_opt)\n",
        "\n",
        "# calculate the AUC ROC scores\n",
        "auc_roc_test_opt = roc_auc_score(y_test, dtc3.predict_proba(X_test)[:, 1])\n",
        "auc_pr_test_opt = average_precision_score(y_test, dtc3.predict_proba(X_test)[:, 1] > 0.5)\n",
        "\n",
        "print(\"\\nTest Set\")\n",
        "print(f\"Accuracy: {acc_test_opt}\")\n",
        "print(f\"Precision: {prec_test_opt}\")\n",
        "print(f\"Recall: {recall_test_opt}\")\n",
        "print(f\"F-1: {f1_test_opt}\")\n",
        "print(f\"AUC_ROC: {auc_roc_test_opt}\")\n",
        "print(f\"AUC_PR: {auc_pr_test_opt}\")\n",
        "print(\"Best Hyperparameters: \", best_params)"
      ],
      "metadata": {
        "colab": {
          "base_uri": "https://localhost:8080/",
          "height": 0
        },
        "id": "KKsKcN2HxFCI",
        "outputId": "395fcf4e-d4e0-4d02-f1b2-6a1ed6a4aa9b"
      },
      "execution_count": 19,
      "outputs": [
        {
          "output_type": "stream",
          "name": "stdout",
          "text": [
            "\n",
            "Test Set\n",
            "Accuracy: 0.9644308598909472\n",
            "Precision: 0.4914271306101866\n",
            "Recall: 0.4715702879264457\n",
            "F-1: 0.4812939869119644\n",
            "AUC_ROC: 0.8851131772490974\n",
            "AUC_PR: 0.25023398358339477\n",
            "Best Hyperparameters:  {'criterion': 'entropy', 'max_depth': 11, 'min_samples_split': 2, 'min_samples_leaf': 2}\n"
          ]
        }
      ]
    },
    {
      "cell_type": "code",
      "source": [
        "prc_p_test_opt, prc_r_test_opt, prc_thresholds_test_opt = precision_recall_curve(y_test, dtc3.predict_proba(X_test)[:, 1])\n",
        "auc_pr_opt = auc(prc_r_test_opt, prc_p_test_opt)\n",
        "\n",
        "plt.plot(prc_r_test_opt, prc_p_test_opt)\n",
        "plt.xlabel(\"Recall\")\n",
        "plt.ylabel(\"Precision\")\n",
        "plt.title(f\"5F-CV Test Precision-Recall Curve (AUC = {auc_pr:.2f})\")\n",
        "plt.show()"
      ],
      "metadata": {
        "colab": {
          "base_uri": "https://localhost:8080/",
          "height": 472
        },
        "id": "2zjL_3Iw6iqL",
        "outputId": "09a213e5-f2a0-4072-9d09-d81f62d42392"
      },
      "execution_count": 20,
      "outputs": [
        {
          "output_type": "display_data",
          "data": {
            "text/plain": [
              "<Figure size 640x480 with 1 Axes>"
            ],
            "image/png": "[encoded data removed]"
          },
          "metadata": {}
        }
      ]
    },
    {
      "cell_type": "code",
      "source": [
        "from sklearn.metrics import classification_report\n",
        "print(classification_report(y_test, y_test_pred_opt))"
      ],
      "metadata": {
        "colab": {
          "base_uri": "https://localhost:8080/",
          "height": 0
        },
        "id": "k7KCTZIh7E_t",
        "outputId": "77013ba1-68a5-4de0-94f3-8d9b46c5ef67"
      },
      "execution_count": 21,
      "outputs": [
        {
          "output_type": "stream",
          "name": "stdout",
          "text": [
            "              precision    recall  f1-score   support\n",
            "\n",
            "           0       0.98      0.98      0.98    113975\n",
            "           1       0.49      0.47      0.48      4133\n",
            "\n",
            "    accuracy                           0.96    118108\n",
            "   macro avg       0.74      0.73      0.73    118108\n",
            "weighted avg       0.96      0.96      0.96    118108\n",
            "\n"
          ]
        }
      ]
    },
    {
      "cell_type": "code",
      "source": [
        "from sklearn.metrics import roc_curve\n",
        "fpr_dt, tpr_dt, thresholds_dt = roc_curve(y_test, dtc3.predict_proba(X_test)[:, 1], pos_label=1)\n",
        "np.save('fpr_decisiontree.npy', fpr_dt)\n",
        "np.save('tpr_decisiontree.npy', tpr_dt)"
      ],
      "metadata": {
        "id": "DYc7hGpP7SrI"
      },
      "execution_count": 22,
      "outputs": []
    }
  ]
}